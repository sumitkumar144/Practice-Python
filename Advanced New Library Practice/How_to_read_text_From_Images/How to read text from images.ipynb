{
 "cells": [
  {
   "cell_type": "markdown",
   "metadata": {},
   "source": [
    "## How to read text from images"
   ]
  },
  {
   "cell_type": "code",
   "execution_count": 3,
   "metadata": {},
   "outputs": [
    {
     "name": "stdout",
     "output_type": "stream",
     "text": [
      "Requirement already satisfied: opencv-python in c:\\users\\sumit\\anaconda3\\lib\\site-packages (4.2.0.34)\n",
      "Requirement already satisfied: numpy>=1.14.5 in c:\\users\\sumit\\appdata\\roaming\\python\\python37\\site-packages (from opencv-python) (1.18.5)\n"
     ]
    }
   ],
   "source": [
    "#!pip install opencv-python"
   ]
  },
  {
   "cell_type": "code",
   "execution_count": 4,
   "metadata": {},
   "outputs": [
    {
     "name": "stdout",
     "output_type": "stream",
     "text": [
      "Collecting pytesseract\n",
      "  Downloading pytesseract-0.3.4.tar.gz (13 kB)\n",
      "Requirement already satisfied: Pillow in c:\\users\\sumit\\anaconda3\\lib\\site-packages (from pytesseract) (7.1.2)\n",
      "Building wheels for collected packages: pytesseract\n",
      "  Building wheel for pytesseract (setup.py): started\n",
      "  Building wheel for pytesseract (setup.py): finished with status 'done'\n",
      "  Created wheel for pytesseract: filename=pytesseract-0.3.4-py2.py3-none-any.whl size=13439 sha256=3c01431a14debf4d80df081428213971ea049301083b13380713da177b619e2f\n",
      "  Stored in directory: c:\\users\\sumit\\appdata\\local\\pip\\cache\\wheels\\51\\71\\e6\\07d988150d601c7c4ec08665d9c048a6a4c1c57f25c2c34e53\n",
      "Successfully built pytesseract\n",
      "Installing collected packages: pytesseract\n",
      "Successfully installed pytesseract-0.3.4\n"
     ]
    }
   ],
   "source": [
    "#!pip install pytesseract"
   ]
  },
  {
   "cell_type": "code",
   "execution_count": 6,
   "metadata": {},
   "outputs": [],
   "source": [
    "import pytesseract\n",
    "pytesseract.pytesseract.tesseract_cmd = r'C:/Program Files/Tesseract-OCR/tesseract.exe'"
   ]
  },
  {
   "cell_type": "code",
   "execution_count": 7,
   "metadata": {},
   "outputs": [],
   "source": [
    "import cv2"
   ]
  },
  {
   "cell_type": "code",
   "execution_count": 26,
   "metadata": {},
   "outputs": [],
   "source": [
    "img = cv2.imread('6.png')\n",
    "cv2.imshow('sample image',img)\n",
    "cv2.waitKey(0)\n",
    "cv2.destroyAllWindows()"
   ]
  },
  {
   "cell_type": "code",
   "execution_count": 24,
   "metadata": {},
   "outputs": [
    {
     "name": "stdout",
     "output_type": "stream",
     "text": [
      "< © mG)\n",
      "\n",
      "Hannah\n",
      "\n",
      " \n",
      "\n",
      "Never have | ever had a beer\n",
      "\n",
      "Never have | ever run through\n",
      "an airport\n",
      "\n",
      "S\n",
      "\n",
      "Omg! | have every time\n",
      "\n",
      "Never have | ever been to\n",
      "Mexico\n",
      "\n",
      "Dang not fair YOU'VE SEEN MY\n",
      "INSTAGRAM!\n",
      "\n",
      "Never have | ever gone skinny\n",
      "\n",
      "dipping\n",
      "\n",
      "(Or lost this game)\n",
      "\n",
      " \n",
      "\n",
      "Delivered\n"
     ]
    }
   ],
   "source": [
    "text=pytesseract.image_to_string(img)\n",
    "print(text)"
   ]
  },
  {
   "cell_type": "code",
   "execution_count": null,
   "metadata": {},
   "outputs": [],
   "source": []
  }
 ],
 "metadata": {
  "kernelspec": {
   "display_name": "Python 3",
   "language": "python",
   "name": "python3"
  },
  "language_info": {
   "codemirror_mode": {
    "name": "ipython",
    "version": 3
   },
   "file_extension": ".py",
   "mimetype": "text/x-python",
   "name": "python",
   "nbconvert_exporter": "python",
   "pygments_lexer": "ipython3",
   "version": "3.7.7"
  }
 },
 "nbformat": 4,
 "nbformat_minor": 4
}
