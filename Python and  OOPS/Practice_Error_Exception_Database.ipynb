{
 "cells": [
  {
   "cell_type": "code",
   "execution_count": null,
   "metadata": {},
   "outputs": [],
   "source": [
    "def askint():\n",
    "        try:\n",
    "            val = int(input(\"Please enter an integer: \"))\n",
    "        except Exception as e:\n",
    "            print(\"Looks like you did not enter an integer!\",e)\n",
    "            \n",
    "        finally:\n",
    "            print(\"Finally, I executed!\")\n",
    "        try:\n",
    "            print(val) \n",
    "        except Exception as t:\n",
    "            print(t)"
   ]
  },
  {
   "cell_type": "code",
   "execution_count": null,
   "metadata": {},
   "outputs": [],
   "source": [
    "askint()"
   ]
  },
  {
   "cell_type": "code",
   "execution_count": null,
   "metadata": {},
   "outputs": [],
   "source": [
    "import os\n",
    "import platform\n",
    "\n",
    "LOCATION = r\"C:\\oracle\\product\\10.2.0\\db_1\\bin\"\n",
    "print(\"ARCH:\", platform.architecture())\n",
    "print(\"FILES AT LOCATION:\")\n",
    "for name in os.listdir(LOCATION):\n",
    "    print(name)\n",
    "os.environ[\"PATH\"] = LOCATION + \";\" + os.environ[\"PATH\"]\n",
    "\n",
    "import cx_Oracle\n",
    "dsn_tns = cx_Oracle.makedsn('Sumit-HP', '1521', service_name='orcl')\n",
    "conn = cx_Oracle.connect(user=r'SYSTEM', password='SYSTEM', dsn=dsn_tns)\n",
    "conn"
   ]
  },
  {
   "cell_type": "code",
   "execution_count": null,
   "metadata": {},
   "outputs": [],
   "source": [
    "import math\n",
    "math.ceil(3.1)"
   ]
  },
  {
   "cell_type": "code",
   "execution_count": null,
   "metadata": {},
   "outputs": [],
   "source": [
    "print(dir(math))"
   ]
  },
  {
   "cell_type": "code",
   "execution_count": null,
   "metadata": {},
   "outputs": [],
   "source": [
    "help(math.ceil)"
   ]
  },
  {
   "cell_type": "code",
   "execution_count": null,
   "metadata": {},
   "outputs": [],
   "source": [
    "def askint():\n",
    "    val = 0\n",
    "    while True:\n",
    "        try:\n",
    "            val = int(input('Enter an integer: '))\n",
    "        except:\n",
    "            print(\"Looks like you haven't entered an integer. Try again.\" )\n",
    "            continue\n",
    "        else:\n",
    "            print(\"Yep, That's an integer\")\n",
    "            break\n",
    "        finally:\n",
    "            print('Finally Entered an integer. Thanks')\n",
    "    print(val)"
   ]
  },
  {
   "cell_type": "code",
   "execution_count": null,
   "metadata": {},
   "outputs": [],
   "source": [
    "askint()"
   ]
  },
  {
   "cell_type": "code",
   "execution_count": null,
   "metadata": {},
   "outputs": [],
   "source": []
  },
  {
   "cell_type": "code",
   "execution_count": null,
   "metadata": {},
   "outputs": [],
   "source": [
    "def askint():\n",
    "    try:\n",
    "        val=int(input('Please enter an integer: '))\n",
    "    except:\n",
    "        print(\"That's not an integer.\")\n",
    "        try:\n",
    "            val = int(input(\"Try agin :- Please enter an integer\"))\n",
    "        except:\n",
    "            print(\"Oops.. Again you did not entered an integer\")\n",
    "    finally:\n",
    "        print(\"Finally succefully entered an integer\")"
   ]
  },
  {
   "cell_type": "code",
   "execution_count": null,
   "metadata": {},
   "outputs": [],
   "source": [
    "askint()"
   ]
  },
  {
   "cell_type": "code",
   "execution_count": null,
   "metadata": {},
   "outputs": [],
   "source": [
    "# Instead of waiting for a program to crash midway, you can also start by making an assertion in Python.\n",
    "# We assert that a certain condition is met. If this condition turns out to be True, then that is excellent! \n",
    "# The program can continue. If the condition turns out to be False, you can have the program throw an AssertionError exception.\n",
    "x = 2\n",
    "assert(x>5), \"x should not be smaller than 5. Value x was: {0}\".format(x)"
   ]
  },
  {
   "cell_type": "code",
   "execution_count": null,
   "metadata": {},
   "outputs": [],
   "source": [
    "# Raise Exception: If you want to throw an error when a certain condition occurs using raise, you could go about it like this:\n",
    "x = 10\n",
    "if x > 5:\n",
    "    raise Exception(\"x should not be greater than 5. Value x was: {0}\".format(x))"
   ]
  },
  {
   "cell_type": "code",
   "execution_count": null,
   "metadata": {},
   "outputs": [],
   "source": [
    "# Raise:\n",
    "\n",
    "#Two reasons where this is useful:\n",
    "\n",
    "# 1/ To be used with try and except blocks. Raise an error of your choosing, could be custom like below and doesn't stop the \n",
    "# script if you pass or contiune the script; or can be predefined errors raise ValueError()\n",
    "class CustomError(BaseException):\n",
    "    pass\n",
    "try:\n",
    "    print(\"Hello\")\n",
    "    raise CustomError\n",
    "    print(\"World\")\n",
    "except CustomError:\n",
    "    print(\"Found it. Not stopping now.\")\n",
    "print(\"I am Outside\")"
   ]
  },
  {
   "cell_type": "code",
   "execution_count": null,
   "metadata": {},
   "outputs": [],
   "source": [
    "# Assert:\n",
    "\n",
    "# Used when you want to \"stop\" the script based on a certain condition and return something to help debug faster:\n",
    "list_ = ['a','b','x']\n",
    "assert 'x' in list_, \"x not found in list\"\n",
    "print('passed')"
   ]
  },
  {
   "cell_type": "code",
   "execution_count": null,
   "metadata": {},
   "outputs": [],
   "source": [
    "list_ = ['a', 'b', 'c']\n",
    "assert 'x' in list_, \"x not found in list\"\n",
    "print('passed')"
   ]
  },
  {
   "cell_type": "code",
   "execution_count": null,
   "metadata": {},
   "outputs": [],
   "source": [
    "try:\n",
    "    with open('file.log') as file:\n",
    "        read_data = file.read()\n",
    "except FileNotFoundError as fnf_error:\n",
    "    print(fnf_error)"
   ]
  },
  {
   "cell_type": "code",
   "execution_count": null,
   "metadata": {},
   "outputs": [],
   "source": [
    "#raise allows you to throw an exception at any time.\n",
    "#assert enables you to verify if a certain condition is met and throw an exception if it isn’t.\n",
    "#In the try clause, all statements are executed until an exception is encountered.\n",
    "#except is used to catch and handle the exception(s) that are encountered in the try clause.\n",
    "#else lets you code sections that should run only when no exceptions are encountered in the try clause.\n",
    "#finally enables you to execute sections of code that should always run, with or without any previously encountered exceptions."
   ]
  },
  {
   "cell_type": "code",
   "execution_count": null,
   "metadata": {},
   "outputs": [],
   "source": [
    "class B(Exception):\n",
    "    pass\n",
    "\n",
    "class C(B):\n",
    "    pass\n",
    "\n",
    "class D(C):\n",
    "    pass\n",
    "\n",
    "for cls in [B, C, D]:\n",
    "    try:\n",
    "        raise cls()\n",
    "    except B:\n",
    "        print(\"B\")\n",
    "    except C:\n",
    "        print(\"C\")\n",
    "    except D:\n",
    "        print(\"D\")"
   ]
  },
  {
   "cell_type": "code",
   "execution_count": null,
   "metadata": {},
   "outputs": [],
   "source": [
    "class B(Exception):\n",
    "    pass\n",
    "\n",
    "class C(B):\n",
    "    pass\n",
    "\n",
    "class D(C):\n",
    "    pass\n",
    "\n",
    "for cls in [B, C, D]:\n",
    "    try:\n",
    "        raise cls()\n",
    "    except D:\n",
    "        print(\"D\")\n",
    "    except C:\n",
    "        print(\"C\")\n",
    "    except B:\n",
    "        print(\"B\")"
   ]
  },
  {
   "cell_type": "code",
   "execution_count": null,
   "metadata": {},
   "outputs": [],
   "source": [
    "# https://realpython.com/python-logging/\n",
    "\n",
    "import logging\n",
    "\n",
    "logging.debug('This is a debug message')\n",
    "logging.info('This is a info messange')\n",
    "logging.warning('This is a warning message')\n",
    "logging.error('This is an error message')\n",
    "logging.critical('This is a critical message')\n",
    "logging.fatal('This is a CRITICAL message')"
   ]
  },
  {
   "cell_type": "code",
   "execution_count": null,
   "metadata": {},
   "outputs": [],
   "source": [
    "import logging\n",
    "logging.basicConfig(level = logging.DEBUG)\n",
    "logging.debug('This will be logged')"
   ]
  },
  {
   "cell_type": "code",
   "execution_count": null,
   "metadata": {},
   "outputs": [],
   "source": [
    "# Logging to a file\n",
    "import logging\n",
    "\n",
    "logging.basicConfig(filename = 'test_error_logging.log', filemode='w', format = '%(name)s - %(levelname)s - %(message)s')\n",
    "logging.warning('This will be logged to a file')"
   ]
  },
  {
   "cell_type": "code",
   "execution_count": null,
   "metadata": {},
   "outputs": [],
   "source": [
    "# Logging to a file\n",
    "import logging\n",
    "\n",
    "logging.basicConfig(filename = 'test_error_logging.log', filemode='w', format = '%(name)s - %(levelname)s - %(message)s')\n",
    "logging.warning('This will be logged to a file')"
   ]
  },
  {
   "cell_type": "code",
   "execution_count": null,
   "metadata": {},
   "outputs": [],
   "source": [
    "logging.shutdown()"
   ]
  },
  {
   "cell_type": "code",
   "execution_count": null,
   "metadata": {},
   "outputs": [],
   "source": [
    "import logging\n",
    "logging.basicConfig(filename = 'test_error_logging.log', filemode='w',format = '%(process)d - %(levelname)s - %(message)s - %(asctime)s', level=logging.info)\n",
    "logging.warning('This is a warning')"
   ]
  },
  {
   "cell_type": "code",
   "execution_count": null,
   "metadata": {},
   "outputs": [],
   "source": [
    "import logging\n",
    "\n",
    "logging.basicConfig(format='%(asctime)s - %(message)s', level=logging.WARNING)\n",
    "logging.info('Admin logged in')"
   ]
  },
  {
   "cell_type": "code",
   "execution_count": null,
   "metadata": {},
   "outputs": [],
   "source": [
    "import logging\n",
    "\n",
    "logging.basicConfig(format='%(asctime)s - %(message)s', datefmt='%d-%b-%y %H:%M:%S')\n",
    "logging.warning('Admin logged out')"
   ]
  },
  {
   "cell_type": "code",
   "execution_count": null,
   "metadata": {},
   "outputs": [],
   "source": [
    "import logging\n",
    "\n",
    "name = 'John'\n",
    "\n",
    "logging.error('%s raised an error', name)"
   ]
  },
  {
   "cell_type": "code",
   "execution_count": null,
   "metadata": {},
   "outputs": [],
   "source": [
    "logging.shutdown()"
   ]
  },
  {
   "cell_type": "code",
   "execution_count": null,
   "metadata": {},
   "outputs": [],
   "source": [
    "import logging\n",
    "a=5\n",
    "b=0\n",
    "try:\n",
    "    c=a/b\n",
    "except Exception as e: \n",
    "    logging.error('Exception Occured',exc_info=True)"
   ]
  },
  {
   "cell_type": "code",
   "execution_count": null,
   "metadata": {},
   "outputs": [],
   "source": [
    "import logging\n",
    "a=5\n",
    "b=0\n",
    "try:\n",
    "    c=a/b\n",
    "except Exception as e: \n",
    "    logging.exception('Exception Occured',exc_info=True)"
   ]
  },
  {
   "cell_type": "code",
   "execution_count": null,
   "metadata": {},
   "outputs": [],
   "source": [
    "import logging\n",
    "\n",
    "logger = logging.getLogger('example_logger')\n",
    "logger.warning('This is a warning')"
   ]
  },
  {
   "cell_type": "code",
   "execution_count": null,
   "metadata": {},
   "outputs": [],
   "source": [
    "import pyodbc"
   ]
  },
  {
   "cell_type": "code",
   "execution_count": null,
   "metadata": {},
   "outputs": [],
   "source": [
    "conn = pyodbc.connect(r'Driver={SQL Server};'\n",
    "                     r'Server=SUMIT-HP\\SQLEXPRESS;'\n",
    "                     r'Database=PMS;'\n",
    "                     r'Trusted_Connection=yes;')\n",
    "curson = conn.cursor()"
   ]
  },
  {
   "cell_type": "code",
   "execution_count": null,
   "metadata": {},
   "outputs": [],
   "source": [
    "conn_str = (\n",
    "    r'Driver={SQL Server};'\n",
    "    r'Server=.\\SQLEXPRESS;'\n",
    "    r'Database=PMS;'\n",
    "    r'Trusted_Connection=yes;'\n",
    "    )\n",
    "cnxn = pyodbc.connect(conn_str)"
   ]
  },
  {
   "cell_type": "code",
   "execution_count": null,
   "metadata": {},
   "outputs": [],
   "source": [
    "SERVER = 'SUMIT-HP\\SQLEXPRESS'\n",
    "DATABASE = 'PMS'\n",
    "DRIVER = 'SQL Server Native Client 11.0'\n",
    "TRUSTED_CONNECTION='yes'"
   ]
  },
  {
   "cell_type": "code",
   "execution_count": null,
   "metadata": {},
   "outputs": [],
   "source": [
    "import pyodbc\n",
    "cnxn = pyodbc.connect(r'Driver={SQL Server};Server=SUMIT-HP\\SQLEXPRESS;Database=PMS;Trusted_Connection=yes;')\n",
    "cursor = cnxn.cursor()"
   ]
  },
  {
   "cell_type": "code",
   "execution_count": null,
   "metadata": {},
   "outputs": [],
   "source": [
    "results = cursor.execute(\"SELECT * FROM dbo.mstUsers\")\n",
    "for row in results:\n",
    "    print(row)\n",
    "print(\"_\"*160)   "
   ]
  },
  {
   "cell_type": "code",
   "execution_count": null,
   "metadata": {},
   "outputs": [],
   "source": [
    "cursor.execute(\"CREATE TABLE Persons (PersonID int, LastName varchar(255), FirstName varchar(255),Address varchar(255),City varchar(255));\")"
   ]
  },
  {
   "cell_type": "code",
   "execution_count": null,
   "metadata": {},
   "outputs": [],
   "source": [
    "cursor.execute(\"INSERT INTO Persons values (1001, 'Mishra', 'Sumit', 'Walter Street', 'Glasgow')\")"
   ]
  },
  {
   "cell_type": "code",
   "execution_count": null,
   "metadata": {},
   "outputs": [],
   "source": [
    "cursor.execute(\"INSERT INTO Persons values (1002, 'Panigrahy', 'Preeti', 'George Street', 'Edinburgh')\")\n",
    "cursor.execute(\"INSERT INTO Persons values (1003, 'Panigrahy', 'Swatee', 'Murugeshpalya', 'Bangalore')\")\n",
    "cursor.execute(\"INSERT INTO Persons values (1004, 'Sahu', 'Smita', 'Armadale Court', 'Glasgow')\")\n",
    "cursor.execute(\"INSERT INTO Persons values (1005, 'Panda', 'Atanu Kumar', 'Armadale Court', 'Edinburgh')\")\n",
    "cursor.execute(\"INSERT INTO Persons values (1006, 'Pati', 'Vivek', 'Bellandur', 'Bangalore')\")\n",
    "cursor.execute(\"INSERT INTO Persons values (1007, 'Mishra', 'Amrit Kumar', 'HAL-2', 'Sunabeda')\")\n",
    "cursor.execute(\"INSERT INTO Persons values (1008, 'Acharya', 'Aditya Narayan', 'Jagannath Nagar', 'Bhubaneswar')\")"
   ]
  },
  {
   "cell_type": "code",
   "execution_count": null,
   "metadata": {},
   "outputs": [],
   "source": [
    "cursor.execute(\"Commit\")"
   ]
  },
  {
   "cell_type": "code",
   "execution_count": null,
   "metadata": {},
   "outputs": [],
   "source": [
    "results = cursor.execute('SELECT * FROM  dbo.Persons')"
   ]
  },
  {
   "cell_type": "code",
   "execution_count": null,
   "metadata": {},
   "outputs": [],
   "source": [
    "for row in results:\n",
    "    print(row)\n",
    "print('-'*80)"
   ]
  },
  {
   "cell_type": "code",
   "execution_count": null,
   "metadata": {},
   "outputs": [],
   "source": [
    "results = cursor.execute('Select PersonID, FirstName, LastName FROM dbo.Persons ORDER BY CITY')"
   ]
  },
  {
   "cell_type": "code",
   "execution_count": null,
   "metadata": {},
   "outputs": [],
   "source": [
    "for row in results:\n",
    "    print(row)\n",
    "print('-'*80)"
   ]
  },
  {
   "cell_type": "code",
   "execution_count": null,
   "metadata": {},
   "outputs": [],
   "source": [
    "results = cursor.execute(\"Select PersonID, FirstName, LastName FROM dbo.Persons WHERE CITY <> 'Bangalore'\")"
   ]
  },
  {
   "cell_type": "code",
   "execution_count": null,
   "metadata": {},
   "outputs": [],
   "source": [
    "for row in results:\n",
    "    print(row)\n",
    "print('-'*80)"
   ]
  },
  {
   "cell_type": "code",
   "execution_count": null,
   "metadata": {},
   "outputs": [],
   "source": [
    "# Import sqlite3 Database\n",
    "import sqlite3\n",
    "# Connect to database \n",
    "db = sqlite3.connect(\"Demo.db\")\n",
    "# Drop table if it already exist using execute() method.\n",
    "db.execute(\"drop table if exists grade1\")\n"
   ]
  },
  {
   "cell_type": "code",
   "execution_count": null,
   "metadata": {},
   "outputs": [],
   "source": [
    "# Create table as per requirement\n",
    "db.execute(\"Create table grade1 (id int, name text, score int)\")\n",
    "# Insert records into the table\n",
    "db.execute(\"Insert INTO grade1(id, name, score) values(1,'Sumit',99)\")\n",
    "db.execute(\"Insert INTO grade1(id, name, score) values(2,'Preeti',90)\")\n",
    "db.execute(\"Insert INTO grade1(id, name, score) values(3,'Swatee',85)\")\n",
    "db.execute(\"Insert INTO grade1(id, name, score) values(4,'Amrit',80)\")\n",
    "db.execute(\"Insert INTO grade1(id, name, score) values(5,'Aditya',75)\")\n",
    "db.execute(\"Insert INTO grade1(id, name, score) values(6,'Jyoti',70)\")\n",
    "db.execute(\"Insert INTO grade1(id, name, score) values(7,'Sunil',65)\")\n",
    "db.execute(\"Insert INTO grade1(id, name, score) values(8,'Atanu',60)\")\n",
    "db.execute(\"Insert INTO grade1(id, name, score) values(9,'Smita',55)\")"
   ]
  },
  {
   "cell_type": "code",
   "execution_count": null,
   "metadata": {},
   "outputs": [],
   "source": [
    "db.commit()"
   ]
  },
  {
   "cell_type": "code",
   "execution_count": null,
   "metadata": {},
   "outputs": [],
   "source": [
    "results = db.execute('Select * FROM grade1')\n",
    "for result in results:\n",
    "    print(result)\n",
    "    \n",
    "print('-'*60)"
   ]
  },
  {
   "cell_type": "code",
   "execution_count": null,
   "metadata": {},
   "outputs": [],
   "source": [
    "results = db.execute('Select * FROM grade1 where name=\"Sumit\"')\n",
    "for result in results:\n",
    "    print(result)\n",
    "    \n",
    "print('-'*60)"
   ]
  },
  {
   "cell_type": "code",
   "execution_count": null,
   "metadata": {},
   "outputs": [],
   "source": [
    "results = db.execute('Select * FROM grade1 where score>=90')\n",
    "for result in results:\n",
    "    print(result)\n",
    "    \n",
    "print('-'*60)"
   ]
  },
  {
   "cell_type": "code",
   "execution_count": null,
   "metadata": {},
   "outputs": [],
   "source": [
    "results = db.execute('Select name, score FROM grade1 order by score desc')\n",
    "for result in results:\n",
    "    print(result)\n",
    "    \n",
    "print('-'*60)"
   ]
  },
  {
   "cell_type": "code",
   "execution_count": null,
   "metadata": {},
   "outputs": [],
   "source": [
    "results = db.execute('Select name, score FROM grade1 order by score')\n",
    "for result in results:\n",
    "    print(result)\n",
    "    \n",
    "print('-'*60)"
   ]
  },
  {
   "cell_type": "code",
   "execution_count": 1,
   "metadata": {},
   "outputs": [],
   "source": [
    "# Method to create SQLite3 connection\n",
    "import sqlite3\n",
    "from sqlite3 import Error\n",
    "\n",
    "def create_connection():\n",
    "    mydb=None\n",
    "    try:\n",
    "        mydb = sqlite3.connect('test.db')\n",
    "        print(\"Connection to SQLite DB successful\")\n",
    "    except Error as e:\n",
    "        print(f'Error {e} has occured')\n",
    "    \n",
    "    return mydb"
   ]
  },
  {
   "cell_type": "code",
   "execution_count": 2,
   "metadata": {},
   "outputs": [
    {
     "name": "stdout",
     "output_type": "stream",
     "text": [
      "Connection to SQLite DB successful\n"
     ]
    },
    {
     "data": {
      "text/plain": [
       "<sqlite3.Connection at 0x27ef9168ab0>"
      ]
     },
     "execution_count": 2,
     "metadata": {},
     "output_type": "execute_result"
    }
   ],
   "source": [
    "create_connection()"
   ]
  },
  {
   "cell_type": "code",
   "execution_count": 15,
   "metadata": {},
   "outputs": [],
   "source": [
    "# Method to create tables in SQLite3 Database\n",
    "def execute_query(query):\n",
    "    conn=create_connection()\n",
    "    c=conn.cursor()\n",
    "    try:\n",
    "        c.execute(query)\n",
    "        conn.commit()\n",
    "        print(\"Query Executed Successfully\")\n",
    "    except Error as e:\n",
    "        print(f\"Error {e} has occured\")"
   ]
  },
  {
   "cell_type": "code",
   "execution_count": 16,
   "metadata": {},
   "outputs": [],
   "source": [
    "# Create Table\n",
    "create_users_table = \"\"\"\n",
    "CREATE table if not exists users( \n",
    "id integer primary key autoincrement,\n",
    "name text NOT NULL,\n",
    "age integer,\n",
    "gender text,\n",
    "nationality text\n",
    ");\n",
    "\"\"\""
   ]
  },
  {
   "cell_type": "code",
   "execution_count": 17,
   "metadata": {},
   "outputs": [
    {
     "name": "stdout",
     "output_type": "stream",
     "text": [
      "Connection to SQLite DB successful\n",
      "Query Executed Successfully\n"
     ]
    }
   ],
   "source": [
    "execute_query(create_users_table )"
   ]
  },
  {
   "cell_type": "code",
   "execution_count": 18,
   "metadata": {},
   "outputs": [
    {
     "name": "stdout",
     "output_type": "stream",
     "text": [
      "Connection to SQLite DB successful\n",
      "Query Executed Successfully\n"
     ]
    }
   ],
   "source": [
    "# Insert Records Into Table\n",
    "create_users = \"\"\"\n",
    "INSERT INTO\n",
    "  users (name, age, gender, nationality)\n",
    "VALUES\n",
    "  ('James', 25, 'male', 'USA'),\n",
    "  ('Leila', 32, 'female', 'France'),\n",
    "  ('Brigitte', 35, 'female', 'England'),\n",
    "  ('Mike', 40, 'male', 'Denmark'),\n",
    "  ('Elizabeth', 21, 'female', 'Canada');\n",
    "\"\"\"\n",
    "\n",
    "execute_query(create_users)"
   ]
  },
  {
   "cell_type": "code",
   "execution_count": 21,
   "metadata": {},
   "outputs": [],
   "source": [
    "# Method to select records from table\n",
    "def execute_select_query(query):\n",
    "    conn=create_connection()\n",
    "    c = conn.cursor()\n",
    "    result=None\n",
    "    try:\n",
    "        c.execute(query)\n",
    "        result=c.fetchall()\n",
    "        print(\"Query Executed Successfully\")\n",
    "        return result\n",
    "        #print(\"values in table : \" ,c.fetchall())\n",
    "        \n",
    "    except Error as e:\n",
    "        print(f\"Error {e} has occured\")"
   ]
  },
  {
   "cell_type": "code",
   "execution_count": 22,
   "metadata": {},
   "outputs": [
    {
     "name": "stdout",
     "output_type": "stream",
     "text": [
      "Connection to SQLite DB successful\n",
      "Query Executed Successfully\n",
      "(1, 'James', 25, 'male', 'USA')\n",
      "(2, 'Leila', 32, 'female', 'France')\n",
      "(3, 'Brigitte', 35, 'female', 'England')\n",
      "(4, 'Mike', 40, 'male', 'Denmark')\n",
      "(5, 'Elizabeth', 21, 'female', 'Canada')\n"
     ]
    }
   ],
   "source": [
    "select_users = \"SELECT * from users\"\n",
    "users = execute_select_query(select_users)\n",
    "\n",
    "for user in users:\n",
    "    print(user)"
   ]
  },
  {
   "cell_type": "code",
   "execution_count": null,
   "metadata": {},
   "outputs": [],
   "source": []
  },
  {
   "cell_type": "code",
   "execution_count": 27,
   "metadata": {},
   "outputs": [],
   "source": [
    "# 1. Write a function to compute 5/0 and use try/except to catch the exception\n",
    "def div_by_zero():\n",
    "    result = 5/0\n",
    "    return result"
   ]
  },
  {
   "cell_type": "code",
   "execution_count": 33,
   "metadata": {},
   "outputs": [
    {
     "name": "stdout",
     "output_type": "stream",
     "text": [
      "Not possible to divide by zero. Error Occured division by zero\n"
     ]
    }
   ],
   "source": [
    "try:\n",
    "    div_by_zero()\n",
    "    print('Successfully divided by zero')\n",
    "except ZeroDivisionError as zde:\n",
    "    print(\"Not possible to divide by zero. Error Occured\",zde)\n",
    "except Exception as e:\n",
    "    print(\"Handle any other error\",e)"
   ]
  },
  {
   "cell_type": "code",
   "execution_count": 29,
   "metadata": {},
   "outputs": [
    {
     "ename": "ZeroDivisionError",
     "evalue": "division by zero",
     "output_type": "error",
     "traceback": [
      "\u001b[1;31m---------------------------------------------------------------------------\u001b[0m",
      "\u001b[1;31mZeroDivisionError\u001b[0m                         Traceback (most recent call last)",
      "\u001b[1;32m<ipython-input-29-e8b8c30965ac>\u001b[0m in \u001b[0;36m<module>\u001b[1;34m\u001b[0m\n\u001b[1;32m----> 1\u001b[1;33m \u001b[0mdiv_by_zero\u001b[0m\u001b[1;33m(\u001b[0m\u001b[1;33m)\u001b[0m\u001b[1;33m\u001b[0m\u001b[1;33m\u001b[0m\u001b[0m\n\u001b[0m",
      "\u001b[1;32m<ipython-input-27-c05e24087e38>\u001b[0m in \u001b[0;36mdiv_by_zero\u001b[1;34m()\u001b[0m\n\u001b[0;32m      1\u001b[0m \u001b[1;31m# 1. Write a function to compute 5/0 and use try/except to catch the exception\u001b[0m\u001b[1;33m\u001b[0m\u001b[1;33m\u001b[0m\u001b[1;33m\u001b[0m\u001b[0m\n\u001b[0;32m      2\u001b[0m \u001b[1;32mdef\u001b[0m \u001b[0mdiv_by_zero\u001b[0m\u001b[1;33m(\u001b[0m\u001b[1;33m)\u001b[0m\u001b[1;33m:\u001b[0m\u001b[1;33m\u001b[0m\u001b[1;33m\u001b[0m\u001b[0m\n\u001b[1;32m----> 3\u001b[1;33m     \u001b[0mresult\u001b[0m \u001b[1;33m=\u001b[0m \u001b[1;36m5\u001b[0m\u001b[1;33m/\u001b[0m\u001b[1;36m0\u001b[0m\u001b[1;33m\u001b[0m\u001b[1;33m\u001b[0m\u001b[0m\n\u001b[0m\u001b[0;32m      4\u001b[0m     \u001b[1;32mreturn\u001b[0m \u001b[0mresult\u001b[0m\u001b[1;33m\u001b[0m\u001b[1;33m\u001b[0m\u001b[0m\n",
      "\u001b[1;31mZeroDivisionError\u001b[0m: division by zero"
     ]
    }
   ],
   "source": [
    "div_by_zero()"
   ]
  },
  {
   "cell_type": "code",
   "execution_count": 1,
   "metadata": {},
   "outputs": [
    {
     "name": "stdout",
     "output_type": "stream",
     "text": [
      "Output:\n",
      "Americans play Baseball.\n",
      "Americans play Cricket.\n",
      "Americans watch Baseball.\n",
      "Americans watch Cricket.\n",
      "Indians play Baseball.\n",
      "Indians play Cricket.\n",
      "Indians watch Baseball.\n",
      "Indians watch Cricket.\n"
     ]
    }
   ],
   "source": [
    "#Solution 1:\n",
    "\n",
    "subject=[\"Americans\",\"Indians\"]\n",
    "verb=[\"play\",\"watch\"]\n",
    "objects=[\"Baseball\",\"Cricket\"]\n",
    "\n",
    "# List Comprehension\n",
    "Syntax = [(Sub+' '+vrb+' '+Objct+\".\") for Sub in subject for vrb in verb for Objct in objects]\n",
    "\n",
    "#for Loop for Iteration\n",
    "print(\"Output:\")\n",
    "\n",
    "for syn in Syntax:    \n",
    "    print(syn)"
   ]
  },
  {
   "cell_type": "code",
   "execution_count": 3,
   "metadata": {},
   "outputs": [
    {
     "name": "stdout",
     "output_type": "stream",
     "text": [
      "Output:\n",
      "Americans play Baseball\n",
      "Americans play Cricket\n",
      "Americans watch Baseball\n",
      "Americans watch Cricket\n",
      "Indains play Baseball\n",
      "Indains play Cricket\n",
      "Indains watch Baseball\n",
      "Indains watch Cricket\n"
     ]
    }
   ],
   "source": [
    "# Solution 2:\n",
    "subjects = ['Americans','Indains']\n",
    "verbs = ['play', 'watch']\n",
    "objects = ['Baseball','Cricket']\n",
    "print(\"Output:\")\n",
    "for i in subjects:\n",
    "    for j in verbs:\n",
    "        for k in objects:\n",
    "            print(i+\" \"+j+\" \"+k)"
   ]
  },
  {
   "cell_type": "code",
   "execution_count": null,
   "metadata": {},
   "outputs": [],
   "source": []
  }
 ],
 "metadata": {
  "kernelspec": {
   "display_name": "Python 3",
   "language": "python",
   "name": "python3"
  },
  "language_info": {
   "codemirror_mode": {
    "name": "ipython",
    "version": 3
   },
   "file_extension": ".py",
   "mimetype": "text/x-python",
   "name": "python",
   "nbconvert_exporter": "python",
   "pygments_lexer": "ipython3",
   "version": "3.7.7"
  }
 },
 "nbformat": 4,
 "nbformat_minor": 4
}
