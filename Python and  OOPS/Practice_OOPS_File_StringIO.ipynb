{
 "cells": [
  {
   "cell_type": "code",
   "execution_count": null,
   "metadata": {},
   "outputs": [],
   "source": [
    "class Person:\n",
    "    pass\n",
    "\n",
    "p1=Person()\n",
    "p1.name=\"Sumit Kumar Mishra\"\n",
    "p1.year_of_birth=1989\n",
    "print(p1)\n",
    "print ('%s was born in %d'%(p1.name,p1.year_of_birth))"
   ]
  },
  {
   "cell_type": "code",
   "execution_count": null,
   "metadata": {},
   "outputs": [],
   "source": [
    "class Person:\n",
    "    def __init__(self,name,year_of_birth):\n",
    "        self.name=name\n",
    "        self.year_of_birth=year_of_birth"
   ]
  },
  {
   "cell_type": "code",
   "execution_count": null,
   "metadata": {},
   "outputs": [],
   "source": [
    "p1=Person(\"Sumit Kumar Mishra\",1989)\n",
    "print(p1)\n",
    "print('%s was born in %d'%(p1.name,p1.year_of_birth))"
   ]
  },
  {
   "cell_type": "code",
   "execution_count": null,
   "metadata": {},
   "outputs": [],
   "source": [
    "p1.year_of_birth"
   ]
  },
  {
   "cell_type": "code",
   "execution_count": null,
   "metadata": {},
   "outputs": [],
   "source": [
    "class Person1:\n",
    "    def __init__(self,name,year_of_birth):\n",
    "        self.name=name\n",
    "        self.year_of_birth=year_of_birth\n",
    "        \n",
    "    def age(self,current_year):\n",
    "        return 'Age is: %d'%(current_year - self.year_of_birth)\n",
    "    \n",
    "    def __str__(self):\n",
    "        return \"%s was born in %d.\" %(self.name,self.year_of_birth)"
   ]
  },
  {
   "cell_type": "code",
   "execution_count": null,
   "metadata": {},
   "outputs": [],
   "source": [
    "p2=Person1(\"Sumit Kumar Mishra\",1989)\n",
    "print(p2)\n",
    "print(p2.age(2020))\n",
    "p2."
   ]
  },
  {
   "cell_type": "code",
   "execution_count": null,
   "metadata": {},
   "outputs": [],
   "source": [
    "class Person1:\n",
    "    def set_name(self,name):\n",
    "        self.name=name\n",
    "    \n",
    "    def set_year_of_birth(self,year_of_birth):\n",
    "        self.year_of_birth=year_of_birth\n",
    "        \n",
    "    def age(self,current_year):\n",
    "        return 'Age is: %d'%(current_year - self.year_of_birth)\n",
    "    \n",
    "    def __str__(self):\n",
    "        return \"%s was born in %d.\" %(self.name,self.year_of_birth)"
   ]
  },
  {
   "cell_type": "code",
   "execution_count": null,
   "metadata": {},
   "outputs": [],
   "source": [
    "p=Person1()"
   ]
  },
  {
   "cell_type": "code",
   "execution_count": null,
   "metadata": {
    "scrolled": true
   },
   "outputs": [],
   "source": [
    "p.set_name(\"Sumit Kumar Mishra\")\n",
    "p.set_year_of_birth(1989)\n",
    "print(p.age(2020))\n",
    "#print(p)\n",
    "p.__dict__"
   ]
  },
  {
   "cell_type": "code",
   "execution_count": null,
   "metadata": {},
   "outputs": [],
   "source": [
    "help(type.__str__)"
   ]
  },
  {
   "cell_type": "code",
   "execution_count": null,
   "metadata": {},
   "outputs": [],
   "source": [
    "help(type.__init__)"
   ]
  },
  {
   "cell_type": "code",
   "execution_count": null,
   "metadata": {},
   "outputs": [],
   "source": [
    "Completed:\n",
    "1. Assignment 4 1st question\n",
    "2. Private\n",
    "3. Protected\n",
    "4. __dict__\n",
    "5. Inheritance\n",
    "6. Multiple Inheritance\n",
    "Pending:\n",
    "7. Video 2 and practice\n",
    "8. Practice the attachement\n",
    "9. Real python about oop\n",
    "10. Udemy Practice\n",
    "11. Practice python code from dashboard\n",
    "12. Upload assignments for DLNLPCV and Python\n",
    "13. Video tutorial DLNLPCV"
   ]
  },
  {
   "cell_type": "code",
   "execution_count": null,
   "metadata": {},
   "outputs": [],
   "source": [
    "class X1:\n",
    "    def __init__(self,a,b,c):\n",
    "        self.a=a\n",
    "        self.b=b\n",
    "        self.c=c\n",
    "    def test(self):\n",
    "        self.s=self.a+self.b+self.c\n",
    "        print(self.s)\n",
    "\n",
    "class X2:\n",
    "    def __init__(self,a,b,c):\n",
    "        self.a=a\n",
    "        self.b=b\n",
    "        self.c=c\n",
    "    def test(self):\n",
    "        self.s=self.a*self.b*self.c\n",
    "        print(self.s)\n",
    "        \n",
    "        \n",
    "class X3(X2,X1):\n",
    "    def __init__(self,a,b,c):\n",
    "        X1.__init__(self,a,b,c)\n",
    "        X2.__init__(self,a,b,c)\n",
    "\n",
    "t1=X3(2,2,3)\n",
    "t1.test()\n",
    "    \n",
    "    "
   ]
  },
  {
   "cell_type": "code",
   "execution_count": null,
   "metadata": {},
   "outputs": [],
   "source": [
    "## Protected Abstaction\n",
    "class Person:\n",
    "    '''\n",
    "    This is a person class\n",
    "    '''\n",
    "    def __init__(self,name,year_of_birth):\n",
    "        self._name=name\n",
    "        self._year_of_birth=year_of_birth\n",
    "    \n",
    "    def age(self,current_year):\n",
    "        '''\n",
    "        Age of a person\n",
    "        '''\n",
    "        return 'Age is %d' %(current_year - self._year_of_birth)\n",
    "    \n",
    "    def __str__(self):\n",
    "        return \"%s was born in %d\"%(self._name, self._year_of_birth)"
   ]
  },
  {
   "cell_type": "code",
   "execution_count": null,
   "metadata": {},
   "outputs": [],
   "source": [
    "P10=Person(\"Sumit Kumar Mishra\",1989)\n",
    "P10._year_of_birth\n",
    "print(P10.age(2020))\n",
    "P10.__dict__"
   ]
  },
  {
   "cell_type": "code",
   "execution_count": null,
   "metadata": {},
   "outputs": [],
   "source": [
    "## Private Abstaction\n",
    "class Person:\n",
    "    def __init__(self,name,year_of_birth):\n",
    "        self.__name = name\n",
    "        self.__year_of_birth = year_of_birth\n",
    "    \n",
    "    def age(self, current_year):\n",
    "        return 'Age is %d: ' %(current_year - self.__year_of_birth)\n",
    "    \n",
    "    def __str__(self):\n",
    "        return '%s was born in %d' %(self.__name, self.__year_of_birth)"
   ]
  },
  {
   "cell_type": "code",
   "execution_count": null,
   "metadata": {},
   "outputs": [],
   "source": [
    "P9 = Person('Sumit Kumar Mishra',1989)\n",
    "print(P9)\n",
    "print(P9.age(2020))\n",
    "P9.__dict__\n",
    "#P9._Person__name\n",
    "P9.__name"
   ]
  },
  {
   "cell_type": "code",
   "execution_count": null,
   "metadata": {},
   "outputs": [],
   "source": [
    "## Inheritance and Method Over Riding \n",
    "class Student(Person):\n",
    "    def __init__(self,student_id,*args): ## Method Over Riding \n",
    "        super(Student,self).__init__(*args)\n",
    "        self._student_id = student_id\n",
    "    def __str__(self): ## Method Over Riding \n",
    "        return super(Student,self).__str__()  + ' and has id: %d' %self._student_id"
   ]
  },
  {
   "cell_type": "code",
   "execution_count": null,
   "metadata": {},
   "outputs": [],
   "source": [
    "s=Student(1,'Sumit',1989)\n",
    "print(s._student_id)\n",
    "print(s)"
   ]
  },
  {
   "cell_type": "code",
   "execution_count": null,
   "metadata": {},
   "outputs": [],
   "source": [
    "class Student(Person):\n",
    "    def __init__(self,student_id,*args):\n",
    "        Person.__init__(self,*args)\n",
    "        self._student_id = student_id\n",
    "    def __str__(self):\n",
    "        return Person.__str__(self)  + ' and has id: %d' %self._student_id"
   ]
  },
  {
   "cell_type": "code",
   "execution_count": null,
   "metadata": {},
   "outputs": [],
   "source": [
    "s=Student(1,'Sumit',1989)\n",
    "print(s._student_id)\n",
    "print(s)"
   ]
  },
  {
   "cell_type": "code",
   "execution_count": null,
   "metadata": {},
   "outputs": [],
   "source": [
    "class A:\n",
    "    def __init__(self,x,y):\n",
    "        self.x=x\n",
    "        self.y=y\n",
    "    def test(self):\n",
    "        print('This is my class A')\n",
    "        \n",
    "class B: \n",
    "    def __init__(self,a,b):\n",
    "        self.a=a\n",
    "        self.b=b\n",
    "    def test(self):\n",
    "        print('This is my class B')\n",
    "        \n",
    "class C(A,B):\n",
    "    obja = A('Sumit', 12)\n",
    "    objb = B('Kumar',14)\n",
    "    obja.test()\n",
    "    objb.test()"
   ]
  },
  {
   "cell_type": "code",
   "execution_count": null,
   "metadata": {},
   "outputs": [],
   "source": [
    "s='sumit'"
   ]
  },
  {
   "cell_type": "code",
   "execution_count": null,
   "metadata": {},
   "outputs": [],
   "source": [
    "s.title()"
   ]
  },
  {
   "cell_type": "code",
   "execution_count": null,
   "metadata": {},
   "outputs": [],
   "source": [
    "class InputTriangleSide:\n",
    "    '''\n",
    "    Class to ask user to provide input for length of sides of triangle\n",
    "    \n",
    "    ===================================================================\n",
    "    \n",
    "    Atributes:\n",
    "    -------------\n",
    "            a : float\n",
    "                First Side input by user\n",
    "            b : float\n",
    "                Second Side input by user\n",
    "            c : float\n",
    "                Thord Side input by user\n",
    "    '''\n",
    "    def __init__(self):\n",
    "        self.a = float(input(\"Input length of first side of Triangle: \"))\n",
    "        self.b = float(input(\"Input length of first side of Triangle: \")) \n",
    "        self.c = float(input(\"Input length of first side of Triangle: \"))"
   ]
  },
  {
   "cell_type": "code",
   "execution_count": null,
   "metadata": {},
   "outputs": [],
   "source": [
    "class AreaOfTriangle(InputTriangleSide):\n",
    "    '''\n",
    "    Class to claculate Area Of Triangle\n",
    "    ========================================\n",
    "    \n",
    "    Methods: \n",
    "    ----------\n",
    "        get_semiperimeter(): Calculate Semi-Perimeter of Triangle\n",
    "        get_area(): Calculate Area OF Triangle\n",
    "    '''\n",
    "    def __init__(self):\n",
    "        InputTriangleSide.__init__(self)\n",
    "        \n",
    "    def get_semiperimeter(self)-> float:\n",
    "        '''\n",
    "        return semi-perimeter of triangle\n",
    "        '''\n",
    "        return float((self.a) + (self.b) + (self.c))/2\n",
    "    \n",
    "    def get_area(self):\n",
    "        '''\n",
    "        return Area of triangle\n",
    "        '''\n",
    "        self.s=self.get_semiperimeter()\n",
    "        self.area = (self.s*(self.s-self.a)*(self.s-self.b)*(self.s-self.c)) ** 0.5\n",
    "        \n",
    "    def __str__(self):\n",
    "        return 'Area of trangle is: %0.2f' %self.area"
   ]
  },
  {
   "cell_type": "code",
   "execution_count": null,
   "metadata": {},
   "outputs": [],
   "source": [
    "area_triangle = AreaOfTriangle()"
   ]
  },
  {
   "cell_type": "code",
   "execution_count": null,
   "metadata": {},
   "outputs": [],
   "source": [
    "area_triangle.get_area()\n",
    "print (area_triangle)"
   ]
  },
  {
   "cell_type": "code",
   "execution_count": null,
   "metadata": {},
   "outputs": [],
   "source": [
    "print (5+\"s\")"
   ]
  },
  {
   "cell_type": "code",
   "execution_count": null,
   "metadata": {},
   "outputs": [],
   "source": [
    "class Person:\n",
    "    '''\n",
    "    This is a person class\n",
    "    '''\n",
    "    def __init__(self,name,year_of_birth):\n",
    "        self._name=name\n",
    "        self._year_of_birth=year_of_birth\n",
    "    \n",
    "    def age(self,current_year):\n",
    "        '''\n",
    "        Age of a person\n",
    "        '''\n",
    "        return 'Age is %d' %(current_year - self._year_of_birth)\n",
    "    \n",
    "    def __str__(self):\n",
    "        return \"%s was born in %d\"%(self._name, self._year_of_birth)"
   ]
  },
  {
   "cell_type": "code",
   "execution_count": null,
   "metadata": {},
   "outputs": [],
   "source": [
    "P10=Person(\"Sumit Kumar Mishra\",1989)\n",
    "P10._year_of_birth\n",
    "print(P10.age(2020))\n",
    "P10.__dict__"
   ]
  },
  {
   "cell_type": "code",
   "execution_count": null,
   "metadata": {},
   "outputs": [],
   "source": [
    "# Composition Encapsulation\n",
    "class Tyres:\n",
    "    def __init__(self, branch, belted_bias, opt_pressure):\n",
    "        self.branch = branch\n",
    "        self.belted_bias = belted_bias\n",
    "        self.opt_pressure = opt_pressure\n",
    "    def __str__(self):\n",
    "        return (\"Tyres: \\n \\tBranch: \"+ self.branch+\n",
    "                           \"\\n \\tBelted-bias: \"+str(self.belted_bias)+\n",
    "                           \"\\n \\tOptimal Pressure: \"+str(self.opt_pressure))\n",
    "    \n",
    "class Engine:\n",
    "    def __init__(self, fuel_type, noise_level):\n",
    "        self.fuel_type = fuel_type\n",
    "        self.noise_level = noise_level\n",
    "    def __str__(self):\n",
    "        return (\"Engine: \\n \\tFuel Type: \"+self.fuel_type+\n",
    "                         \"\\n \\tNoise Level: \"+str(self.noise_level))\n",
    "class Body:\n",
    "    def __init__(self, size):\n",
    "        self.size = size\n",
    "    def __str__(self):\n",
    "        return \"Body: \\n \\tSize: \"+ self.size\n",
    "class Car:\n",
    "    def __init__(self,tyres, engine, body):\n",
    "        self.tyres = tyres\n",
    "        self.engine = engine\n",
    "        self.body = body\n",
    "    def __str__(self):\n",
    "        return str(self.tyres)+ \"\\n\"+str(self.engine)+\"\\n\"+str(self.body)\n",
    "\n",
    "t = Tyres(\"Pirelli\", True, 2.0)\n",
    "e = Engine(\"Diesel\",3)\n",
    "b = Body(\"Sedan\")\n",
    "c = Car(t,e,b)\n",
    "print(c)"
   ]
  },
  {
   "cell_type": "code",
   "execution_count": null,
   "metadata": {},
   "outputs": [],
   "source": [
    "# Dynamic Encapsulation\n",
    "class Dog:\n",
    "    def __init__(self, name, year_of_birth, breed):\n",
    "        self.name = name\n",
    "        self.year_of_birth = year_of_birth\n",
    "        self.breed = breed\n",
    "    def __str__(self):\n",
    "        return \"%s is a breed %s and was born in %d\" %(self.name, self.breed, self.year_of_birth)\n",
    "d1=Dog('Jonny',2010,'Husky')\n",
    "print(d1)"
   ]
  },
  {
   "cell_type": "code",
   "execution_count": null,
   "metadata": {},
   "outputs": [],
   "source": [
    "class Student:\n",
    "    def __init__(self,anagraphic,student_id):\n",
    "        self.anagraphic = anagraphic\n",
    "        self.student_id = student_id\n",
    "    def __str__(self):\n",
    "        return str(self.anagraphic)+\" Student Id: %d\"%(self.student_id)"
   ]
  },
  {
   "cell_type": "code",
   "execution_count": null,
   "metadata": {},
   "outputs": [],
   "source": [
    "s1 = Student('abcd',1)\n",
    "s2 = Student(d1,2)"
   ]
  },
  {
   "cell_type": "code",
   "execution_count": null,
   "metadata": {},
   "outputs": [],
   "source": [
    "print(s1)\n",
    "print(s2)"
   ]
  },
  {
   "cell_type": "code",
   "execution_count": null,
   "metadata": {},
   "outputs": [],
   "source": [
    "# Polymorphism with class methods\n",
    "class India(): \n",
    "    def capital(self): \n",
    "        print(\"New Delhi is the capital of India.\") \n",
    "  \n",
    "    def language(self): \n",
    "        print(\"Hindi is the most widely spoken language of India.\") \n",
    "  \n",
    "    def type(self): \n",
    "        print(\"India is a developing country.\") \n",
    "        \n",
    "class USA(): \n",
    "    def capital(self): \n",
    "        print(\"Washington, D.C. is the capital of USA.\") \n",
    "  \n",
    "    def language(self): \n",
    "        print(\"English is the primary language of USA.\") \n",
    "  \n",
    "    def type(self): \n",
    "        print(\"USA is a developed country.\") \n",
    "        \n",
    "obj_ind = India() \n",
    "obj_usa = USA() \n",
    "for country in (obj_ind, obj_usa): \n",
    "    country.capital() \n",
    "    country.language() \n",
    "    country.type() "
   ]
  },
  {
   "cell_type": "code",
   "execution_count": null,
   "metadata": {},
   "outputs": [],
   "source": [
    "# Polymorphism with Inheritance:\n",
    "class Bird:\n",
    "      def intro(self): \n",
    "        print(\"There are many types of birds.\") \n",
    "      \n",
    "      def flight(self): \n",
    "        print(\"Most of the birds can fly but some cannot.\") \n",
    "    \n",
    "class sparrow(Bird): \n",
    "      def flight(self): \n",
    "        print(\"Sparrows can fly.\")\n",
    "\n",
    "class ostrich(Bird): \n",
    "      def flight(self): \n",
    "        print(\"Ostriches cannot fly.\") \n",
    "        \n",
    "obj_bird = Bird() \n",
    "obj_spr = sparrow() \n",
    "obj_ost = ostrich() \n",
    "  \n",
    "obj_bird.intro() \n",
    "obj_bird.flight() \n",
    "  \n",
    "obj_spr.intro() \n",
    "obj_spr.flight()\n",
    "\n",
    "obj_ost.intro() \n",
    "obj_ost.flight() "
   ]
  },
  {
   "cell_type": "code",
   "execution_count": null,
   "metadata": {},
   "outputs": [],
   "source": [
    "# Polymorphism with a Function and objects:\n",
    "class India(): \n",
    "    def capital(self): \n",
    "        print(\"New Delhi is the capital of India.\") \n",
    "   \n",
    "    def language(self): \n",
    "        print(\"Hindi is the most widely spoken language of India.\") \n",
    "   \n",
    "    def type(self): \n",
    "        print(\"India is a developing country.\") \n",
    "        \n",
    "class USA(): \n",
    "    def capital(self): \n",
    "        print(\"Washington, D.C. is the capital of USA.\") \n",
    "   \n",
    "    def language(self): \n",
    "        print(\"English is the primary language of USA.\") \n",
    "   \n",
    "    def type(self): \n",
    "        print(\"USA is a developed country.\")"
   ]
  },
  {
   "cell_type": "code",
   "execution_count": null,
   "metadata": {},
   "outputs": [],
   "source": [
    "def func(obj): \n",
    "    obj.capital() \n",
    "    obj.language() \n",
    "    obj.type() \n",
    "    \n",
    "obj_ind = India() \n",
    "obj_usa = USA() \n",
    "   \n",
    "func(obj_ind) \n",
    "func(obj_usa)"
   ]
  },
  {
   "cell_type": "code",
   "execution_count": null,
   "metadata": {},
   "outputs": [],
   "source": [
    "%%writefile file_test.txt\n",
    "This is my first file in Python.\n",
    "It seems very interesting topic.\n",
    "I am eager to learn it."
   ]
  },
  {
   "cell_type": "code",
   "execution_count": null,
   "metadata": {},
   "outputs": [],
   "source": [
    "pwd()"
   ]
  },
  {
   "cell_type": "code",
   "execution_count": null,
   "metadata": {},
   "outputs": [],
   "source": [
    "my_file=open('file_test.txt')"
   ]
  },
  {
   "cell_type": "code",
   "execution_count": null,
   "metadata": {},
   "outputs": [],
   "source": [
    "my_file"
   ]
  },
  {
   "cell_type": "code",
   "execution_count": null,
   "metadata": {},
   "outputs": [],
   "source": [
    "my_file.read()"
   ]
  },
  {
   "cell_type": "code",
   "execution_count": null,
   "metadata": {},
   "outputs": [],
   "source": [
    "my_file.read()"
   ]
  },
  {
   "cell_type": "code",
   "execution_count": null,
   "metadata": {},
   "outputs": [],
   "source": [
    "my_file.seek(20)"
   ]
  },
  {
   "cell_type": "code",
   "execution_count": null,
   "metadata": {},
   "outputs": [],
   "source": [
    "my_file.read()"
   ]
  },
  {
   "cell_type": "code",
   "execution_count": null,
   "metadata": {},
   "outputs": [],
   "source": [
    "my_file.seek(0)"
   ]
  },
  {
   "cell_type": "code",
   "execution_count": null,
   "metadata": {},
   "outputs": [],
   "source": [
    "my_file.readlines()"
   ]
  },
  {
   "cell_type": "code",
   "execution_count": null,
   "metadata": {},
   "outputs": [],
   "source": [
    "my_file=open('file_test.txt','w+')"
   ]
  },
  {
   "cell_type": "code",
   "execution_count": null,
   "metadata": {},
   "outputs": [],
   "source": [
    "my_file.write('This is a new write line in append mode')"
   ]
  },
  {
   "cell_type": "code",
   "execution_count": null,
   "metadata": {},
   "outputs": [],
   "source": [
    "my_file.readlines()"
   ]
  },
  {
   "cell_type": "code",
   "execution_count": null,
   "metadata": {},
   "outputs": [],
   "source": [
    "my_file.write('This is a new write line2')"
   ]
  },
  {
   "cell_type": "code",
   "execution_count": null,
   "metadata": {},
   "outputs": [],
   "source": [
    "%%writefile test_file.txt\n",
    "First Line\n",
    "Second Line\n",
    "Third Line\n",
    "Fourth Line\n",
    "Fifth Line\n",
    "Sixth Line"
   ]
  },
  {
   "cell_type": "code",
   "execution_count": null,
   "metadata": {},
   "outputs": [],
   "source": [
    "for line in open('test_file.txt'):\n",
    "    print (line)"
   ]
  },
  {
   "cell_type": "code",
   "execution_count": null,
   "metadata": {},
   "outputs": [],
   "source": [
    "from io import StringIO"
   ]
  },
  {
   "cell_type": "code",
   "execution_count": null,
   "metadata": {},
   "outputs": [],
   "source": [
    "message='This is my first line'\n",
    "type(message)"
   ]
  },
  {
   "cell_type": "code",
   "execution_count": null,
   "metadata": {},
   "outputs": [],
   "source": [
    "f = StringIO(message)\n",
    "type(f)"
   ]
  },
  {
   "cell_type": "code",
   "execution_count": null,
   "metadata": {},
   "outputs": [],
   "source": [
    "f.read()"
   ]
  },
  {
   "cell_type": "code",
   "execution_count": null,
   "metadata": {},
   "outputs": [],
   "source": [
    "f.write('This is my second line')"
   ]
  },
  {
   "cell_type": "code",
   "execution_count": null,
   "metadata": {},
   "outputs": [],
   "source": [
    "f.read()"
   ]
  },
  {
   "cell_type": "code",
   "execution_count": null,
   "metadata": {},
   "outputs": [],
   "source": [
    "f.seek(0)"
   ]
  },
  {
   "cell_type": "code",
   "execution_count": null,
   "metadata": {},
   "outputs": [],
   "source": [
    "f=4/0\n",
    "f"
   ]
  },
  {
   "cell_type": "code",
   "execution_count": null,
   "metadata": {},
   "outputs": [],
   "source": [
    "try:\n",
    "    f=144/12\n",
    "except ZeroDivisionError:\n",
    "    print('Devision by zero is not possible. Please change your code')\n",
    "else:\n",
    "    print('Good Job. print %0.2f'%f)"
   ]
  },
  {
   "cell_type": "code",
   "execution_count": null,
   "metadata": {},
   "outputs": [],
   "source": [
    "print('sjbfjdb)"
   ]
  },
  {
   "cell_type": "code",
   "execution_count": null,
   "metadata": {},
   "outputs": [],
   "source": [
    "class Shark():\n",
    "    def swim(self):\n",
    "        print('The Shark is swimming.')\n",
    "    def swim_backwards(self):\n",
    "        print(\"The shark can't swim backwards, but can sink backwards.\")\n",
    "    def skeleton(self):\n",
    "        print(\"The shark's skeleton is made of cartilage.\")\n",
    "\n",
    "class Clownfish():\n",
    "    def swim(self):\n",
    "        print('The clownfish is swimming.')\n",
    "    def swim_backwards(self):\n",
    "        print(\"The clownfish can swim backwards.\")\n",
    "    def skeleton(self):\n",
    "        print(\"The clownfish's skeleton is made of bone.\")"
   ]
  },
  {
   "cell_type": "code",
   "execution_count": null,
   "metadata": {},
   "outputs": [],
   "source": [
    "sammy = Shark()\n",
    "sammy.skeleton()\n",
    "cassey = Clownfish()\n",
    "cassey.skeleton()"
   ]
  },
  {
   "cell_type": "code",
   "execution_count": null,
   "metadata": {},
   "outputs": [],
   "source": [
    "sammy.swim()\n",
    "cassey.swim()"
   ]
  },
  {
   "cell_type": "code",
   "execution_count": null,
   "metadata": {},
   "outputs": [],
   "source": [
    "sammy.swim_backwards()\n",
    "cassey.swim_backwards()"
   ]
  },
  {
   "cell_type": "code",
   "execution_count": null,
   "metadata": {},
   "outputs": [],
   "source": [
    "sammy = Shark()\n",
    "cassey = Clownfish()\n",
    "for fish in (sammy, cassey):\n",
    "    fish.swim()\n",
    "    fish.swim_backwards()\n",
    "    fish.skeleton()"
   ]
  },
  {
   "cell_type": "code",
   "execution_count": null,
   "metadata": {},
   "outputs": [],
   "source": [
    "# Polymorphism with a function\n",
    "def in_the_pacific(fish):\n",
    "    fish.swim()\n",
    "    fish.skeleton()\n",
    "    fish.swim_backwards()"
   ]
  },
  {
   "cell_type": "code",
   "execution_count": null,
   "metadata": {},
   "outputs": [],
   "source": [
    "in_the_pacific(sammy)\n",
    "in_the_pacific(cassey)"
   ]
  },
  {
   "cell_type": "code",
   "execution_count": null,
   "metadata": {},
   "outputs": [],
   "source": [
    "class Tomato():\n",
    "    def type(self):\n",
    "        print('Vegetable')\n",
    "    def color(self):\n",
    "        print(\"Red\")\n",
    "class Apple():\n",
    "    def type(self):\n",
    "        print('Fruit')\n",
    "    def color(self):\n",
    "        print(\"Red\")"
   ]
  },
  {
   "cell_type": "code",
   "execution_count": null,
   "metadata": {},
   "outputs": [],
   "source": [
    "obj_tomato = Tomato()\n",
    "obj_apple = Apple()\n",
    "for obj in (obj_tomato, obj_apple):\n",
    "    obj.type()\n",
    "    obj.color()"
   ]
  },
  {
   "cell_type": "code",
   "execution_count": null,
   "metadata": {},
   "outputs": [],
   "source": [
    "def funct(obj):\n",
    "    obj.type()\n",
    "    obj.color()"
   ]
  },
  {
   "cell_type": "code",
   "execution_count": null,
   "metadata": {},
   "outputs": [],
   "source": [
    "funct(obj_apple)\n",
    "funct(obj_tomato)"
   ]
  },
  {
   "cell_type": "code",
   "execution_count": null,
   "metadata": {},
   "outputs": [],
   "source": [
    "class India():\n",
    "    def capital(self):\n",
    "        print('New Delhi')\n",
    "    def language(self):\n",
    "        print('Hindi and English')\n",
    "class USA():\n",
    "    def capital(self):\n",
    "        print('Washington')\n",
    "    def language(self):\n",
    "        print('English')\n",
    "obj_ind = India()\n",
    "obj_usa = USA()"
   ]
  },
  {
   "cell_type": "code",
   "execution_count": null,
   "metadata": {},
   "outputs": [],
   "source": [
    "for country in (obj_ind, obj_usa):\n",
    "    country.capital()\n",
    "    country.language()"
   ]
  },
  {
   "cell_type": "code",
   "execution_count": null,
   "metadata": {},
   "outputs": [],
   "source": [
    "def func(country):\n",
    "    country.capital()\n",
    "    country.language()"
   ]
  },
  {
   "cell_type": "code",
   "execution_count": null,
   "metadata": {},
   "outputs": [],
   "source": [
    "func(obj_ind)\n",
    "func(obj_usa)"
   ]
  },
  {
   "cell_type": "code",
   "execution_count": null,
   "metadata": {},
   "outputs": [],
   "source": [
    "# Polymorphism with Inheritance\n",
    "class Bird():\n",
    "    def intro(self):\n",
    "        print('There are different types of birds.')\n",
    "    def flight(self):\n",
    "        print('Most of the bird can fly but some can not.')\n",
    "\n",
    "class Parrot(Bird):\n",
    "    def flight(self):\n",
    "        print('Parrots can fly')\n",
    "        \n",
    "class Penguine(Bird):\n",
    "    def flight(self):\n",
    "        print('Penguines do not fly')"
   ]
  },
  {
   "cell_type": "code",
   "execution_count": null,
   "metadata": {},
   "outputs": [],
   "source": [
    "obj_bird = Bird()\n",
    "obj_parr = Parrot()\n",
    "obj_peng = Penguine()\n",
    "for obj in (obj_bird, obj_parr, obj_peng):\n",
    "    obj.intro()\n",
    "    obj.flight()"
   ]
  },
  {
   "cell_type": "code",
   "execution_count": null,
   "metadata": {},
   "outputs": [],
   "source": [
    "def func(obj):\n",
    "    obj.intro()\n",
    "    obj.flight()"
   ]
  },
  {
   "cell_type": "code",
   "execution_count": null,
   "metadata": {},
   "outputs": [],
   "source": [
    "func(obj_bird)\n",
    "func(obj_parr)\n",
    "func(obj_peng)"
   ]
  },
  {
   "cell_type": "code",
   "execution_count": null,
   "metadata": {},
   "outputs": [],
   "source": [
    "class Room:\n",
    "    def __init__(self, door):\n",
    "        self.door = door\n",
    "\n",
    "    def open(self):\n",
    "        self.door.open()\n",
    "\n",
    "    def close(self):\n",
    "        self.door.close()\n",
    "\n",
    "    def is_open(self):\n",
    "        return self.door.is_open()"
   ]
  },
  {
   "cell_type": "code",
   "execution_count": null,
   "metadata": {},
   "outputs": [],
   "source": [
    "class Door:\n",
    "    def __init__(self):\n",
    "        self.status = \"closed\"\n",
    "\n",
    "    def open(self):\n",
    "        self.status = \"open\"\n",
    "\n",
    "    def close(self):\n",
    "        self.status = \"closed\"\n",
    "\n",
    "    def is_open(self):\n",
    "        return self.status == \"open\"\n",
    "\n",
    "\n",
    "class BooleanDoor:\n",
    "    def __init__(self):\n",
    "        self.status = False\n",
    "\n",
    "    def open(self):\n",
    "        self.status = True\n",
    "\n",
    "    def close(self):\n",
    "        self.status = False\n",
    "\n",
    "    def is_open(self):\n",
    "        return self.status"
   ]
  },
  {
   "cell_type": "code",
   "execution_count": null,
   "metadata": {},
   "outputs": [],
   "source": [
    "door = Door()\n",
    "booldoor = BooleanDoor()"
   ]
  },
  {
   "cell_type": "code",
   "execution_count": null,
   "metadata": {},
   "outputs": [],
   "source": [
    "room = Room(door)\n",
    "boolroom = Room(booldoor)"
   ]
  },
  {
   "cell_type": "code",
   "execution_count": null,
   "metadata": {},
   "outputs": [],
   "source": [
    "print(room)"
   ]
  },
  {
   "cell_type": "code",
   "execution_count": null,
   "metadata": {},
   "outputs": [],
   "source": [
    "print(room.open())\n",
    "print(room.is_open())"
   ]
  },
  {
   "cell_type": "code",
   "execution_count": null,
   "metadata": {},
   "outputs": [],
   "source": [
    "print(room.close())\n",
    "print(room.is_open())"
   ]
  },
  {
   "cell_type": "code",
   "execution_count": null,
   "metadata": {},
   "outputs": [],
   "source": [
    "print(boolroom.open())\n",
    "print(boolroom.is_open())"
   ]
  },
  {
   "cell_type": "code",
   "execution_count": null,
   "metadata": {},
   "outputs": [],
   "source": [
    "print(boolroom.close())\n",
    "print(boolroom.is_open())"
   ]
  },
  {
   "cell_type": "code",
   "execution_count": null,
   "metadata": {},
   "outputs": [],
   "source": [
    "# Inheritance\n",
    "class Vehicle:\n",
    "    \n",
    "    def __init__(self, name, color):\n",
    "        self.__name = name\n",
    "        self.__color = color\n",
    "    \n",
    "    def getColor(self):\n",
    "        return self.__color\n",
    "    \n",
    "    def setColor(self,color):\n",
    "        self.__color = color\n",
    "        \n",
    "    def getName(self):\n",
    "        return self.__name\n",
    "    \n",
    "class Car(Vehicle):\n",
    "    def __init__(self, name, color, model):\n",
    "        Vehicle.__init__(self, name, color)\n",
    "        self.__model = model\n",
    "        \n",
    "    def getDescription(self):\n",
    "        return self.getName()+ self.__model + \" in \" + self.getColor() + \" color.\"\n",
    "        "
   ]
  },
  {
   "cell_type": "code",
   "execution_count": null,
   "metadata": {},
   "outputs": [],
   "source": [
    "c = Car('Audi', 'black', 'A6')\n",
    "c.setColor('Red')\n",
    "print(c.getColor())\n",
    "print(c.getDescription())\n",
    "print(c.getName())"
   ]
  },
  {
   "cell_type": "code",
   "execution_count": null,
   "metadata": {},
   "outputs": [],
   "source": [
    "# Method Overriding\n",
    "class A:\n",
    "    def __init__(self):\n",
    "        self.__x = 1\n",
    "    def m1(self):\n",
    "        print('m1 from class A')\n",
    "        \n",
    "class B(A):\n",
    "    def __init__(self):\n",
    "        self.__y = 2\n",
    "    #def m1(self):\n",
    "    #    print('m1 from class B')"
   ]
  },
  {
   "cell_type": "code",
   "execution_count": null,
   "metadata": {},
   "outputs": [],
   "source": [
    "b = B()\n",
    "b.m1()"
   ]
  },
  {
   "cell_type": "code",
   "execution_count": null,
   "metadata": {},
   "outputs": [],
   "source": [
    "# Polymorphism\n",
    "class Cat:\n",
    "    def __init__(self, name, age):\n",
    "        self.name = name\n",
    "        self.age = age\n",
    "    def info(self):\n",
    "        print(\"I am cat. My name is %s. My age is %d\"%(self.name, self.age))\n",
    "        # print(f\"I am a cat. My name is {self.name}. My age is {self.age}\")\n",
    "    def make_sound(self):\n",
    "        print(\"Meow Meow\")\n",
    "class Dog:\n",
    "    def __init__(self, name, age):\n",
    "        self.name = name\n",
    "        self.age = age\n",
    "    def info(self):\n",
    "        #print('I am a dog. My name is %s. My age is %d' %(self.name, self.age))\n",
    "        print(f'I am a dog. My name is {self.name}. My age is {self.age}')\n",
    "    def make_sound(self):\n",
    "        print('Bark')\n",
    "cat1 = Cat(\"Kitty\",2.5)\n",
    "dog1 = Dog(\"Puppy\",1)"
   ]
  },
  {
   "cell_type": "code",
   "execution_count": null,
   "metadata": {},
   "outputs": [],
   "source": [
    "for pet in (cat1, dog1):\n",
    "    pet.info()\n",
    "    pet.make_sound()"
   ]
  },
  {
   "cell_type": "code",
   "execution_count": null,
   "metadata": {},
   "outputs": [],
   "source": [
    "def func(pet):\n",
    "    pet.info()\n",
    "    pet.make_sound()    "
   ]
  },
  {
   "cell_type": "code",
   "execution_count": null,
   "metadata": {},
   "outputs": [],
   "source": [
    "func(cat1)\n",
    "func(dog1)"
   ]
  },
  {
   "cell_type": "code",
   "execution_count": null,
   "metadata": {},
   "outputs": [],
   "source": [
    "#Multiple Inheritance\n",
    "class A:\n",
    "    def explore(self):\n",
    "        print(\"explore() method called\")\n",
    "        \n",
    "class B:\n",
    "    def search(self):\n",
    "        print(\"search() method called\")\n",
    "        \n",
    "class C:\n",
    "    def discover(self):\n",
    "        print(\"discover() method is called\")\n",
    "        \n",
    "class D(A,B,C):\n",
    "    def test(self):\n",
    "        print(\"test() method is called\")\n",
    "        \n",
    "        \n",
    "obj_d = D()\n",
    "obj_d.explore()\n",
    "obj_d.search()\n",
    "obj_d.discover()\n",
    "obj_d.test()"
   ]
  },
  {
   "cell_type": "code",
   "execution_count": null,
   "metadata": {},
   "outputs": [],
   "source": [
    "class A:\n",
    "    def explore(self):\n",
    "        print(\"Explore() method of class A\")\n",
    "class B(A):\n",
    "    def explore(self):\n",
    "        #super(B,self).explore()\n",
    "        # super().explore()\n",
    "        A.explore(self)\n",
    "        print(\"Explore() method of class B\")"
   ]
  },
  {
   "cell_type": "code",
   "execution_count": null,
   "metadata": {},
   "outputs": [],
   "source": [
    "b = B()\n",
    "b.explore()"
   ]
  },
  {
   "cell_type": "code",
   "execution_count": null,
   "metadata": {},
   "outputs": [],
   "source": [
    "class Car:\n",
    "\n",
    "    def __init__(self):\n",
    "        self.__updateSoftware()\n",
    "\n",
    "    def drive(self):\n",
    "        print('driving')\n",
    "\n",
    "    def __updateSoftware(self):\n",
    "        print('updating software')\n",
    "\n",
    "redcar = Car()\n",
    "redcar.drive()"
   ]
  },
  {
   "cell_type": "code",
   "execution_count": null,
   "metadata": {},
   "outputs": [],
   "source": [
    "class Car:\n",
    "    def __init__(self, name, maxspeed):\n",
    "        self.__maxspeed = maxspeed\n",
    "        self.__name = name\n",
    "    def drive(self):\n",
    "        print('driving. maxspeed '+ str(self.__maxspeed))\n",
    "\n",
    "redcar = Car('Audi', 200)\n",
    "redcar.drive()\n",
    "#redcar.__maxspeed=100\n",
    "redcar._Car__maxspeed=100\n",
    "redcar.drive()"
   ]
  },
  {
   "cell_type": "code",
   "execution_count": null,
   "metadata": {},
   "outputs": [],
   "source": [
    "class Car:\n",
    "    def __init__(self, name, maxspeed):\n",
    "        self.__maxspeed = maxspeed\n",
    "        self.__name = name\n",
    "    def setMaxspeed(self,speed):\n",
    "        self.__maxspeed = speed\n",
    "    def drive(self):\n",
    "        print('driving. maxspeed '+ str(self.__maxspeed))\n",
    "\n",
    "redcar = Car('Audi', 200)\n",
    "redcar.drive()\n",
    "redcar.setMaxspeed(150)\n",
    "redcar.drive()"
   ]
  },
  {
   "cell_type": "code",
   "execution_count": null,
   "metadata": {},
   "outputs": [],
   "source": [
    "redcar.__dict__"
   ]
  },
  {
   "cell_type": "code",
   "execution_count": null,
   "metadata": {},
   "outputs": [],
   "source": [
    "class Student():\n",
    "    def __init__(self,first_name, last_name, age,class_,section):\n",
    "        self.first_name = first_name\n",
    "        self.last_name = last_name\n",
    "        self.age = age\n",
    "        self.class_ = class_\n",
    "        self.section = section"
   ]
  },
  {
   "cell_type": "code",
   "execution_count": null,
   "metadata": {},
   "outputs": [],
   "source": [
    "student1 = Student('Ram','Kumar',12,6,'B')\n",
    "student2 = Student('Shyam','Sharma', 14, 8,'C')"
   ]
  },
  {
   "cell_type": "code",
   "execution_count": null,
   "metadata": {},
   "outputs": [],
   "source": [
    "print('Details of First Student: Name = {0}, Age = {1}, Class_section = {2}'.\n",
    "      format (student1.first_name+ \" \"+student1.last_name, student1.age, str(student1.class_)+student1.section))"
   ]
  },
  {
   "cell_type": "code",
   "execution_count": null,
   "metadata": {},
   "outputs": [],
   "source": [
    "print('Details of Second Student: Name = {0}, Age = {1}, Class_section = {2}'.\n",
    "      format (student2.first_name+ \" \"+student2.last_name, student2.age, str(student2.class_)+student2.section))"
   ]
  },
  {
   "cell_type": "code",
   "execution_count": null,
   "metadata": {},
   "outputs": [],
   "source": [
    "class Instagram:\n",
    "    def share_story(self):\n",
    "        print('Share your stories on instagram...')\n",
    "class Facebook:\n",
    "    def share_story(self):\n",
    "        print('Share your stories on Facebook...')\n",
    "def shareStory(application):\n",
    "    application.share_story()"
   ]
  },
  {
   "cell_type": "code",
   "execution_count": null,
   "metadata": {},
   "outputs": [],
   "source": [
    "insta = Instagram()\n",
    "fb = Facebook()"
   ]
  },
  {
   "cell_type": "code",
   "execution_count": null,
   "metadata": {},
   "outputs": [],
   "source": [
    "shareStory(insta)\n",
    "shareStory(fb)"
   ]
  },
  {
   "cell_type": "code",
   "execution_count": 1,
   "metadata": {},
   "outputs": [],
   "source": [
    "class BonusDistribution:\n",
    "    \n",
    "    \n",
    "    def __init__(self, employeeId, employeeRating):\n",
    "        self.empId = employeeId\n",
    "        self.empRating = employeeRating\n",
    "        self.__bonusforRatingA = \"70%\"\n",
    "        self.__bonusforRatingB = \"60%\"\n",
    "        self.__bonusforRatingC = \"50%\"\n",
    "        self.__bonusforRatingD = \"30%\"\n",
    "        self.__bonusforRatingRest = \"No Bonus\"\n",
    "    \n",
    "    def bonusCalculator(self):\n",
    "        \n",
    "        if self.empRating == \"A\":\n",
    "            bonus = self.__bonusforRatingA\n",
    "            msg = \"Bonus for this employee is: \"+bonus\n",
    "            return msg\n",
    "        elif self.empRating == \"B\":\n",
    "            bonus = self.__bonusforRatingB\n",
    "            msg = \"Bonus for this employee is: \"+bonus\n",
    "            return msg\n",
    "        elif self.empRating == \"C\":\n",
    "            bonus = self.__bonusforRatingC\n",
    "            msg = \"Bonus for this employee is: \"+bonus\n",
    "            return msg\n",
    "        elif self.empRating == \"D\":\n",
    "            bonus = self.__bonusforRatingD\n",
    "            msg = \"Bonus for this employee is: \"+bonus\n",
    "            return msg\n",
    "        else:\n",
    "            bonus = self.__bonusforRatingRest\n",
    "            msg = \"Bonus for this employee is: \"+bonus\n",
    "            return msg\n",
    "        "
   ]
  },
  {
   "cell_type": "code",
   "execution_count": 12,
   "metadata": {},
   "outputs": [],
   "source": [
    "emp1 = BonusDistribution(1234, 'B')\n",
    "emp2 = BonusDistribution(4265, 'A')\n",
    "emp3 = BonusDistribution(2938, 'E')"
   ]
  },
  {
   "cell_type": "code",
   "execution_count": 3,
   "metadata": {},
   "outputs": [
    {
     "data": {
      "text/plain": [
       "'Bonus for this employee is: 70%'"
      ]
     },
     "execution_count": 3,
     "metadata": {},
     "output_type": "execute_result"
    }
   ],
   "source": [
    "emp2.bonusCalculator()"
   ]
  },
  {
   "cell_type": "code",
   "execution_count": 4,
   "metadata": {},
   "outputs": [
    {
     "data": {
      "text/plain": [
       "'Bonus for this employee is: 60%'"
      ]
     },
     "execution_count": 4,
     "metadata": {},
     "output_type": "execute_result"
    }
   ],
   "source": [
    "emp1.bonusCalculator()"
   ]
  },
  {
   "cell_type": "code",
   "execution_count": 5,
   "metadata": {},
   "outputs": [
    {
     "data": {
      "text/plain": [
       "'Bonus for this employee is: No Bonus'"
      ]
     },
     "execution_count": 5,
     "metadata": {},
     "output_type": "execute_result"
    }
   ],
   "source": [
    "emp3.bonusCalculator()"
   ]
  },
  {
   "cell_type": "code",
   "execution_count": 6,
   "metadata": {},
   "outputs": [],
   "source": [
    "emp1.__bonusforRatingB = '65%'"
   ]
  },
  {
   "cell_type": "code",
   "execution_count": 7,
   "metadata": {},
   "outputs": [
    {
     "data": {
      "text/plain": [
       "'Bonus for this employee is: 60%'"
      ]
     },
     "execution_count": 7,
     "metadata": {},
     "output_type": "execute_result"
    }
   ],
   "source": [
    "emp1.bonusCalculator() #private variable is not changed"
   ]
  },
  {
   "cell_type": "code",
   "execution_count": 51,
   "metadata": {},
   "outputs": [],
   "source": [
    "# To change the private attribute we need to define a function inside the class. Let's see how.\n",
    "\n",
    "class BonusDistribution:\n",
    "    \n",
    "    \n",
    "    def __init__(self, employeeId, employeeRating):\n",
    "        self.empId = employeeId\n",
    "        self.empRating = employeeRating\n",
    "        self.__bonusforRatingA = \"70%\"\n",
    "        self.__bonusforRatingB = \"60%\"\n",
    "        self.__bonusforRatingC = \"50%\"\n",
    "        self.__bonusforRatingD = \"30%\"\n",
    "        self.__bonusforRatingForRest = \"No Bonus\"\n",
    "        \n",
    "              \n",
    "    def bonusCalculator(self):\n",
    "        \n",
    "        if self.empRating == \"A\":\n",
    "            bonus = self.__bonusforRatingA\n",
    "            msg = \"Bonus for this employee is: \"+bonus\n",
    "            return msg\n",
    "        elif self.empRating == \"B\":\n",
    "            bonus = self.__bonusforRatingB\n",
    "            msg = \"Bonus for this employee is: \"+bonus\n",
    "            return msg\n",
    "        elif self.empRating == \"C\":\n",
    "            bonus = self.__bonusforRatingC\n",
    "            msg = \"Bonus for this employee is: \"+bonus\n",
    "            return msg\n",
    "        elif self.empRating == \"D\":\n",
    "            bonus = self.__bonusforRatingD\n",
    "            msg = \"Bonus for this employee is: \"+bonus\n",
    "            return msg\n",
    "        else:\n",
    "            bonus = self.__bonusforRatingForRest\n",
    "            msg = \"Bonus for this employee is: \"+bonus\n",
    "            return msg\n",
    "        \n",
    "    def changeBonusForRatingForRest(self,value):\n",
    "        self.__bonusforRatingForRest = value"
   ]
  },
  {
   "cell_type": "code",
   "execution_count": 52,
   "metadata": {},
   "outputs": [],
   "source": [
    "emp3 = BonusDistribution(1031,'E')"
   ]
  },
  {
   "cell_type": "code",
   "execution_count": 53,
   "metadata": {},
   "outputs": [
    {
     "data": {
      "text/plain": [
       "'Bonus for this employee is: No Bonus'"
      ]
     },
     "execution_count": 53,
     "metadata": {},
     "output_type": "execute_result"
    }
   ],
   "source": [
    "emp3.bonusCalculator()"
   ]
  },
  {
   "cell_type": "code",
   "execution_count": 54,
   "metadata": {},
   "outputs": [],
   "source": [
    "emp3.changeBonusForRatingForRest(\"20%\")"
   ]
  },
  {
   "cell_type": "code",
   "execution_count": 55,
   "metadata": {},
   "outputs": [
    {
     "data": {
      "text/plain": [
       "'Bonus for this employee is: 20%'"
      ]
     },
     "execution_count": 55,
     "metadata": {},
     "output_type": "execute_result"
    }
   ],
   "source": [
    "emp3.bonusCalculator()"
   ]
  },
  {
   "cell_type": "code",
   "execution_count": 45,
   "metadata": {},
   "outputs": [],
   "source": [
    "# Make the change bonus method as private so everyone can't see the method\n",
    "\n",
    "class BonusDistribution:\n",
    "    \n",
    "    \n",
    "    def __init__(self, employeeId, employeeRating):\n",
    "        self.empId = employeeId\n",
    "        self.empRating = employeeRating\n",
    "        self.__bonusforRatingA = \"70%\"\n",
    "        self.__bonusforRatingB = \"60%\"\n",
    "        self.__bonusforRatingC = \"50%\"\n",
    "        self.__bonusforRatingD = \"30%\"\n",
    "        self.__bonusforRatingForRest = \"No Bonus\"\n",
    "        \n",
    "              \n",
    "    def bonusCalculator(self):\n",
    "        \n",
    "        if self.empRating == \"A\":\n",
    "            bonus = self.__bonusforRatingA\n",
    "            msg = \"Bonus for this employee is: \"+bonus\n",
    "            return msg\n",
    "        elif self.empRating == \"B\":\n",
    "            bonus = self.__bonusforRatingB\n",
    "            msg = \"Bonus for this employee is: \"+bonus\n",
    "            return msg\n",
    "        elif self.empRating == \"C\":\n",
    "            bonus = self.__bonusforRatingC\n",
    "            msg = \"Bonus for this employee is: \"+bonus\n",
    "            return msg\n",
    "        elif self.empRating == \"D\":\n",
    "            bonus = self.__bonusforRatingD\n",
    "            msg = \"Bonus for this employee is: \"+bonus\n",
    "            return msg\n",
    "        else:\n",
    "            bonus = self.__bonusforRatingForRest\n",
    "            msg = \"Bonus for this employee is: \"+bonus\n",
    "            return msg\n",
    "        \n",
    "    def __changeBonusForRatingForRest(self,value):\n",
    "        self.__bonusforRatingForRest = value"
   ]
  },
  {
   "cell_type": "code",
   "execution_count": 46,
   "metadata": {},
   "outputs": [],
   "source": [
    "emp3 = BonusDistribution(1031,'E')"
   ]
  },
  {
   "cell_type": "code",
   "execution_count": 47,
   "metadata": {},
   "outputs": [
    {
     "data": {
      "text/plain": [
       "'Bonus for this employee is: No Bonus'"
      ]
     },
     "execution_count": 47,
     "metadata": {},
     "output_type": "execute_result"
    }
   ],
   "source": [
    "emp3.bonusCalculator()"
   ]
  },
  {
   "cell_type": "code",
   "execution_count": 48,
   "metadata": {},
   "outputs": [
    {
     "ename": "AttributeError",
     "evalue": "'BonusDistribution' object has no attribute '__changeBonusForRatingForRest'",
     "output_type": "error",
     "traceback": [
      "\u001b[1;31m---------------------------------------------------------------------------\u001b[0m",
      "\u001b[1;31mAttributeError\u001b[0m                            Traceback (most recent call last)",
      "\u001b[1;32m<ipython-input-48-7b073e5a5d0a>\u001b[0m in \u001b[0;36m<module>\u001b[1;34m\u001b[0m\n\u001b[1;32m----> 1\u001b[1;33m \u001b[0memp3\u001b[0m\u001b[1;33m.\u001b[0m\u001b[0m__changeBonusForRatingForRest\u001b[0m\u001b[1;33m(\u001b[0m\u001b[1;34m'20%'\u001b[0m\u001b[1;33m)\u001b[0m\u001b[1;33m\u001b[0m\u001b[1;33m\u001b[0m\u001b[0m\n\u001b[0m",
      "\u001b[1;31mAttributeError\u001b[0m: 'BonusDistribution' object has no attribute '__changeBonusForRatingForRest'"
     ]
    }
   ],
   "source": [
    "emp3.__changeBonusForRatingForRest('20%')"
   ]
  },
  {
   "cell_type": "code",
   "execution_count": 49,
   "metadata": {},
   "outputs": [],
   "source": [
    "emp3._BonusDistribution__changeBonusForRatingForRest('20%')"
   ]
  },
  {
   "cell_type": "code",
   "execution_count": 50,
   "metadata": {},
   "outputs": [
    {
     "data": {
      "text/plain": [
       "'Bonus for this employee is: 20%'"
      ]
     },
     "execution_count": 50,
     "metadata": {},
     "output_type": "execute_result"
    }
   ],
   "source": [
    "emp3.bonusCalculator()"
   ]
  },
  {
   "cell_type": "code",
   "execution_count": 56,
   "metadata": {},
   "outputs": [],
   "source": [
    "# Operator Overloading\n",
    "class MultiplyNum():\n",
    "    def __init__(self,a):\n",
    "        self.a = a"
   ]
  },
  {
   "cell_type": "code",
   "execution_count": 57,
   "metadata": {},
   "outputs": [],
   "source": [
    "a1 = MultiplyNum(2)\n",
    "a2 = MultiplyNum(3)"
   ]
  },
  {
   "cell_type": "code",
   "execution_count": 58,
   "metadata": {},
   "outputs": [
    {
     "ename": "TypeError",
     "evalue": "unsupported operand type(s) for *: 'MultiplyNum' and 'MultiplyNum'",
     "output_type": "error",
     "traceback": [
      "\u001b[1;31m---------------------------------------------------------------------------\u001b[0m",
      "\u001b[1;31mTypeError\u001b[0m                                 Traceback (most recent call last)",
      "\u001b[1;32m<ipython-input-58-d8f7a8f74ee5>\u001b[0m in \u001b[0;36m<module>\u001b[1;34m\u001b[0m\n\u001b[1;32m----> 1\u001b[1;33m \u001b[0ma1\u001b[0m\u001b[1;33m*\u001b[0m\u001b[0ma2\u001b[0m\u001b[1;33m\u001b[0m\u001b[1;33m\u001b[0m\u001b[0m\n\u001b[0m",
      "\u001b[1;31mTypeError\u001b[0m: unsupported operand type(s) for *: 'MultiplyNum' and 'MultiplyNum'"
     ]
    }
   ],
   "source": [
    "a1*a2"
   ]
  },
  {
   "cell_type": "code",
   "execution_count": 62,
   "metadata": {},
   "outputs": [],
   "source": [
    "class MultiplyNum():\n",
    "    def __init__(self,a):\n",
    "        self.a = a\n",
    "    def __mul__(self,other):\n",
    "        return self.a * other.a"
   ]
  },
  {
   "cell_type": "code",
   "execution_count": 63,
   "metadata": {},
   "outputs": [],
   "source": [
    "a1 = MultiplyNum(2)\n",
    "a2 = MultiplyNum(3)"
   ]
  },
  {
   "cell_type": "code",
   "execution_count": 64,
   "metadata": {},
   "outputs": [
    {
     "data": {
      "text/plain": [
       "6"
      ]
     },
     "execution_count": 64,
     "metadata": {},
     "output_type": "execute_result"
    }
   ],
   "source": [
    "a1*a2"
   ]
  },
  {
   "cell_type": "code",
   "execution_count": 74,
   "metadata": {},
   "outputs": [],
   "source": [
    "# overload mul to add 2 numbers instead of multiply\n",
    "class MultiplyNum():\n",
    "    def __init__(self,a):\n",
    "        self.a = a\n",
    "    def __mul__(self,other):\n",
    "        return self.a + other.a"
   ]
  },
  {
   "cell_type": "code",
   "execution_count": 75,
   "metadata": {},
   "outputs": [],
   "source": [
    "a1 = MultiplyNum(2)\n",
    "a2 = MultiplyNum(3)"
   ]
  },
  {
   "cell_type": "code",
   "execution_count": 77,
   "metadata": {},
   "outputs": [
    {
     "data": {
      "text/plain": [
       "5"
      ]
     },
     "execution_count": 77,
     "metadata": {},
     "output_type": "execute_result"
    }
   ],
   "source": [
    "a1*a2"
   ]
  },
  {
   "cell_type": "code",
   "execution_count": 81,
   "metadata": {},
   "outputs": [],
   "source": [
    "# Overloading string method\n",
    "class PrintInformation():\n",
    "    def __init__(self, operator):\n",
    "        self.operator = operator\n",
    "        \n",
    "    def __str__(self):\n",
    "        return \"Overloading the operator \"+ self.operator"
   ]
  },
  {
   "cell_type": "code",
   "execution_count": 82,
   "metadata": {},
   "outputs": [],
   "source": [
    "print_ = PrintInformation('string')"
   ]
  },
  {
   "cell_type": "code",
   "execution_count": 83,
   "metadata": {},
   "outputs": [
    {
     "name": "stdout",
     "output_type": "stream",
     "text": [
      "Overloading the operator string\n"
     ]
    }
   ],
   "source": [
    "print(print_)"
   ]
  },
  {
   "cell_type": "code",
   "execution_count": null,
   "metadata": {},
   "outputs": [],
   "source": []
  }
 ],
 "metadata": {
  "kernelspec": {
   "display_name": "Python 3",
   "language": "python",
   "name": "python3"
  },
  "language_info": {
   "codemirror_mode": {
    "name": "ipython",
    "version": 3
   },
   "file_extension": ".py",
   "mimetype": "text/x-python",
   "name": "python",
   "nbconvert_exporter": "python",
   "pygments_lexer": "ipython3",
   "version": "3.7.7"
  }
 },
 "nbformat": 4,
 "nbformat_minor": 4
}
