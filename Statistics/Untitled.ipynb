{
 "cells": [
  {
   "cell_type": "code",
   "execution_count": 1,
   "metadata": {},
   "outputs": [],
   "source": [
    "import numpy as np\n",
    "from scipy import stats"
   ]
  },
  {
   "cell_type": "code",
   "execution_count": 2,
   "metadata": {},
   "outputs": [],
   "source": [
    "dataset = [6, 7, 5, 7, 7, 8, 7, 6, 9, 7, 4, 10, 6, 8, 8, 9, 5, 6, 4, 8]"
   ]
  },
  {
   "cell_type": "code",
   "execution_count": 3,
   "metadata": {},
   "outputs": [],
   "source": [
    "mean = np.mean(dataset)\n",
    "median = np.median(dataset)\n",
    "mode = stats.mode(dataset)\n",
    "variance = np.var(dataset)\n",
    "standard_deviation = np.std(dataset)"
   ]
  },
  {
   "cell_type": "code",
   "execution_count": 5,
   "metadata": {},
   "outputs": [
    {
     "name": "stdout",
     "output_type": "stream",
     "text": [
      "Mean value of dataset is:  6.85\n",
      "Median value of dataset is:  7.0\n",
      "Mode value of dataset is:  ModeResult(mode=array([7]), count=array([5]))\n",
      "Variance value of dataset is:  2.5275000000000003\n",
      "Standard Deviation value of dataset is:  1.5898113095584647\n"
     ]
    }
   ],
   "source": [
    "print(\"Mean value of dataset is: \", mean)\n",
    "print(\"Median value of dataset is: \", median)\n",
    "print(\"Mode value of dataset is: \", mode)\n",
    "print(\"Variance value of dataset is: \", variance)\n",
    "print(\"Standard Deviation value of dataset is: \", standard_deviation)"
   ]
  },
  {
   "cell_type": "code",
   "execution_count": 14,
   "metadata": {},
   "outputs": [],
   "source": [
    "dataset1 = [28, 122, 217, 130, 120, 86, 80, 90, 140, 120,\n",
    "            70, 40, 145, 113, 90, 68, 174, 194, 170, 100, \n",
    "            75, 104, 97, 75, 123, 100, 75, 104, 97, 75, \n",
    "            123, 100, 89, 120, 109]"
   ]
  },
  {
   "cell_type": "code",
   "execution_count": 15,
   "metadata": {},
   "outputs": [
    {
     "data": {
      "text/plain": [
       "35"
      ]
     },
     "execution_count": 15,
     "metadata": {},
     "output_type": "execute_result"
    }
   ],
   "source": [
    "len(dataset1)"
   ]
  },
  {
   "cell_type": "code",
   "execution_count": 23,
   "metadata": {},
   "outputs": [
    {
     "data": {
      "text/plain": [
       "3"
      ]
     },
     "execution_count": 23,
     "metadata": {},
     "output_type": "execute_result"
    }
   ],
   "source": [
    "dataset1.count(100)"
   ]
  },
  {
   "cell_type": "code",
   "execution_count": 16,
   "metadata": {},
   "outputs": [],
   "source": [
    "mean = np.mean(dataset1)\n",
    "median = np.median(dataset1)\n",
    "mode = stats.mode(dataset1)\n",
    "variance = np.var(dataset1)\n",
    "standard_deviation = np.std(dataset1)"
   ]
  },
  {
   "cell_type": "code",
   "execution_count": 17,
   "metadata": {},
   "outputs": [
    {
     "name": "stdout",
     "output_type": "stream",
     "text": [
      "Mean value of dataset is:  107.51428571428572\n",
      "Median value of dataset is:  100.0\n",
      "Mode value of dataset is:  ModeResult(mode=array([75]), count=array([4]))\n",
      "Variance value of dataset is:  1503.3355102040816\n",
      "Standard Deviation value of dataset is:  38.77287080168403\n"
     ]
    }
   ],
   "source": [
    "print(\"Mean value of dataset is: \", mean)\n",
    "print(\"Median value of dataset is: \", median)\n",
    "print(\"Mode value of dataset is: \", mode)\n",
    "print(\"Variance value of dataset is: \", variance)\n",
    "print(\"Standard Deviation value of dataset is: \", standard_deviation)"
   ]
  },
  {
   "cell_type": "code",
   "execution_count": 18,
   "metadata": {},
   "outputs": [
    {
     "data": {
      "text/plain": [
       "77.54574160336806"
      ]
     },
     "execution_count": 18,
     "metadata": {},
     "output_type": "execute_result"
    }
   ],
   "source": [
    "2*standard_deviation"
   ]
  },
  {
   "cell_type": "code",
   "execution_count": 19,
   "metadata": {},
   "outputs": [
    {
     "data": {
      "text/plain": [
       "116.31861240505208"
      ]
     },
     "execution_count": 19,
     "metadata": {},
     "output_type": "execute_result"
    }
   ],
   "source": [
    "3*standard_deviation"
   ]
  },
  {
   "cell_type": "code",
   "execution_count": 24,
   "metadata": {},
   "outputs": [
    {
     "data": {
      "text/plain": [
       "223"
      ]
     },
     "execution_count": 24,
     "metadata": {},
     "output_type": "execute_result"
    }
   ],
   "source": [
    "107+116"
   ]
  },
  {
   "cell_type": "code",
   "execution_count": null,
   "metadata": {},
   "outputs": [],
   "source": []
  }
 ],
 "metadata": {
  "kernelspec": {
   "display_name": "Python 3",
   "language": "python",
   "name": "python3"
  },
  "language_info": {
   "codemirror_mode": {
    "name": "ipython",
    "version": 3
   },
   "file_extension": ".py",
   "mimetype": "text/x-python",
   "name": "python",
   "nbconvert_exporter": "python",
   "pygments_lexer": "ipython3",
   "version": "3.7.7"
  }
 },
 "nbformat": 4,
 "nbformat_minor": 4
}
