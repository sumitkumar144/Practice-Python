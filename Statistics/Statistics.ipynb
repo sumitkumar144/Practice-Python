{
 "cells": [
  {
   "cell_type": "markdown",
   "metadata": {},
   "source": [
    "# Statistics Theory"
   ]
  },
  {
   "cell_type": "markdown",
   "metadata": {},
   "source": [
    "Statistics is the discipline that concerns the collection, organization, analysis, interpretation and presentation of data in an effective way to get some insights from the data. Statistical analysis has been used to manipulate, summarize and investigate the dataset that you will be able to get some meaningful insight from it. Based on the insights, you can make appropriate decisions."
   ]
  },
  {
   "cell_type": "markdown",
   "metadata": {},
   "source": [
    "#### Types of Statistics"
   ]
  },
  {
   "cell_type": "markdown",
   "metadata": {},
   "source": [
    "1. Descriptive Statistics\n",
    "2. Inferential Statistics"
   ]
  },
  {
   "cell_type": "markdown",
   "metadata": {},
   "source": [
    "Descriptive Statistics is again devided into below types:"
   ]
  },
  {
   "cell_type": "markdown",
   "metadata": {},
   "source": [
    "a. Categorical\n",
    "\n",
    "b. Numerical\n",
    "Numerical is again devided into below types:\n",
    "   -  b.1. Contineous\n",
    "   -  b.2. Descrete"
   ]
  },
  {
   "cell_type": "markdown",
   "metadata": {},
   "source": [
    "Inferential Statistics is again devided into below types based on level of measurements:"
   ]
  },
  {
   "cell_type": "markdown",
   "metadata": {},
   "source": [
    "a. Qualitative\n",
    "\n",
    "b. Quantitative"
   ]
  },
  {
   "cell_type": "markdown",
   "metadata": {},
   "source": [
    "Qualitative is again devided into below types:\n",
    "    - a.1. Nominal (There is no order of data e.g (Male, Female) or (Summer, Spring, Winter seasons))\n",
    "    - a.2. Ordinal (Ordered the data based on inferences)"
   ]
  },
  {
   "cell_type": "markdown",
   "metadata": {},
   "source": [
    "Quantitative is again devided into below types:\n",
    "    - b.1. Interval\n",
    "    - b.2. Ratio"
   ]
  }
 ],
 "metadata": {
  "kernelspec": {
   "display_name": "Python 3",
   "language": "python",
   "name": "python3"
  },
  "language_info": {
   "codemirror_mode": {
    "name": "ipython",
    "version": 3
   },
   "file_extension": ".py",
   "mimetype": "text/x-python",
   "name": "python",
   "nbconvert_exporter": "python",
   "pygments_lexer": "ipython3",
   "version": "3.7.7"
  }
 },
 "nbformat": 4,
 "nbformat_minor": 4
}
